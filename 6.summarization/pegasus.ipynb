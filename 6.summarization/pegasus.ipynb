{
 "cells": [
  {
   "cell_type": "code",
   "execution_count": 1,
   "id": "520a3788",
   "metadata": {},
   "outputs": [],
   "source": [
    "from transformers import PegasusForConditionalGeneration, PegasusTokenizer\n",
    "import pandas as pd"
   ]
  },
  {
   "cell_type": "code",
   "execution_count": null,
   "id": "d00e6156",
   "metadata": {},
   "outputs": [],
   "source": [
    "df = pd.read_csv(\"../2.text_preprocessing/cna_FINAL.csv\")\n",
    "df"
   ]
  },
  {
   "cell_type": "code",
   "execution_count": 2,
   "id": "5ae348aa",
   "metadata": {},
   "outputs": [
    {
     "data": {
      "application/vnd.jupyter.widget-view+json": {
       "model_id": "1139a1d603664e6bb9ca3938ff976088",
       "version_major": 2,
       "version_minor": 0
      },
      "text/plain": [
       "Downloading:   0%|          | 0.00/1.91M [00:00<?, ?B/s]"
      ]
     },
     "metadata": {},
     "output_type": "display_data"
    },
    {
     "data": {
      "application/vnd.jupyter.widget-view+json": {
       "model_id": "b76ca82012e945f38ed373527ba3c46e",
       "version_major": 2,
       "version_minor": 0
      },
      "text/plain": [
       "Downloading:   0%|          | 0.00/65.0 [00:00<?, ?B/s]"
      ]
     },
     "metadata": {},
     "output_type": "display_data"
    },
    {
     "data": {
      "application/vnd.jupyter.widget-view+json": {
       "model_id": "91b7c9ddc77744c6bd9af46d110f8bcd",
       "version_major": 2,
       "version_minor": 0
      },
      "text/plain": [
       "Downloading:   0%|          | 0.00/88.0 [00:00<?, ?B/s]"
      ]
     },
     "metadata": {},
     "output_type": "display_data"
    },
    {
     "data": {
      "application/vnd.jupyter.widget-view+json": {
       "model_id": "deb7136a37ec4d1fb8af41080ffda599",
       "version_major": 2,
       "version_minor": 0
      },
      "text/plain": [
       "Downloading:   0%|          | 0.00/1.12k [00:00<?, ?B/s]"
      ]
     },
     "metadata": {},
     "output_type": "display_data"
    }
   ],
   "source": [
    "tokenizer = PegasusTokenizer.from_pretrained(\"google/pegasus-cnn_dailymail\")"
   ]
  },
  {
   "cell_type": "code",
   "execution_count": 3,
   "id": "9e1addaa",
   "metadata": {},
   "outputs": [
    {
     "data": {
      "application/vnd.jupyter.widget-view+json": {
       "model_id": "ba2e374e40b7446da4eeb0945b91b621",
       "version_major": 2,
       "version_minor": 0
      },
      "text/plain": [
       "Downloading:   0%|          | 0.00/2.28G [00:00<?, ?B/s]"
      ]
     },
     "metadata": {},
     "output_type": "display_data"
    }
   ],
   "source": [
    "#load model\n",
    "model = PegasusForConditionalGeneration.from_pretrained(\"google/pegasus-cnn_dailymail\")"
   ]
  },
  {
   "cell_type": "code",
   "execution_count": 4,
   "id": "b78b9bb5",
   "metadata": {},
   "outputs": [],
   "source": [
    "text = 'BERLIN (AP) — The German economy shrank by 2.2% in the first quarter compared with the previous three-month period as shutdowns in the country and beyond started to bite, official data showed Friday. That means Europe’s biggest economy went into recession following a small dip at the end of last year. The figures from the Federal Statistical Office offered a first glimpse of the damage caused by the coronavirus crisis to Europe’s biggest economy, which the government is trying to limit with a raft of rescue programs. The decline in the January-March period was the biggest since 2009. It followed a 0.3% gain in last year’s third quarter and a 0.1% contraction in the fourth quarter — the latter figure revised down from the initial report in February of zero growth. That revision put Germany into a technical recession, defined as two consecutive quarters of negative growth, in the first quarter. March was the month in which the coronavirus pandemic hit Europe, with first Italy and then other countries imposing sweeping restrictions on public life and businesses. Germany itself started shutting down in mid-March. It never ordered factories closed, but companies did largely stop production in some areas — such as the automaking sector — and supply chains were disrupted. Recent data showed a 15.6% month-on-month decrease in factory orders in March, and a 9.2% drop in industrial production. The country started loosening restrictions on April 20 and the process has gathered pace recently. Shops have now reopened, restaurants are gradually opening up and auto production has restarted.'"
   ]
  },
  {
   "cell_type": "code",
   "execution_count": 5,
   "id": "acc23ee4",
   "metadata": {},
   "outputs": [],
   "source": [
    "#create tokens - number representation of our text\n",
    "tokens = tokenizer(text, truncation=True, padding=\"longest\", return_tensors=\"pt\")"
   ]
  },
  {
   "cell_type": "code",
   "execution_count": 6,
   "id": "f121acb3",
   "metadata": {},
   "outputs": [
    {
     "name": "stderr",
     "output_type": "stream",
     "text": [
      "/Users/christine/anaconda3/lib/python3.10/site-packages/transformers/generation_utils.py:1359: UserWarning: Neither `max_length` nor `max_new_tokens` has been set, `max_length` will default to 128 (`self.config.max_length`). Controlling `max_length` via the config is deprecated and `max_length` will be removed from the config in v5 of Transformers -- we recommend using `max_new_tokens` to control the maximum length of the generation.\n",
      "  warnings.warn(\n"
     ]
    }
   ],
   "source": [
    "summary = model.generate(**tokens)"
   ]
  },
  {
   "cell_type": "code",
   "execution_count": 7,
   "id": "4874ba39",
   "metadata": {},
   "outputs": [
    {
     "data": {
      "text/plain": [
       "tensor([[    0,   139,  5088,   115,   109,  1268,   121, 11365,   908,   140,\n",
       "           109,  1715,   381,  3418,   110,   107,   106,   362,  1734,   114,\n",
       "         63404,  1830,   115,   289,   232,   123,   116,   776,  2349,   111,\n",
       "           114, 55898, 26357,   115,   109,  2868,  2349,   110,   107,     1]])"
      ]
     },
     "execution_count": 7,
     "metadata": {},
     "output_type": "execute_result"
    }
   ],
   "source": [
    "summary"
   ]
  },
  {
   "cell_type": "code",
   "execution_count": 9,
   "id": "a0eb513f",
   "metadata": {},
   "outputs": [
    {
     "data": {
      "text/plain": [
       "'The decline in the January-March period was the biggest since 2009.<n>It followed a 0.3% gain in last year’s third quarter and a 0.1% contraction in the fourth quarter.'"
      ]
     },
     "execution_count": 9,
     "metadata": {},
     "output_type": "execute_result"
    }
   ],
   "source": [
    "tokenizer.decode(summary[0])"
   ]
  },
  {
   "cell_type": "code",
   "execution_count": 15,
   "id": "bb35c4e7",
   "metadata": {},
   "outputs": [
    {
     "name": "stdout",
     "output_type": "stream",
     "text": [
      "Germany's economy shrank by 2.2% in the first quarter compared with the previous three-month period. That means Europe's biggest economy went into recession following a small dip at the end of last year. March was the month in which the coronavirus pandemic hit Europe, with first Italy and then other countries imposing sweeping restrictions. Germany started shutting down in mid-March. It never ordered factories closed, but companies did largely stop production in some areas.\n"
     ]
    }
   ],
   "source": [
    "# openai\n",
    "import requests\n",
    "api_key = \"929e58a0-77e9-41b4-a4c4-b40a77b8bcf1\"\n",
    "url = \"https://api.oneai.com/api/v0/pipeline\"\n",
    "headers = {\"api-key\": api_key, \"content-type\": \"application/json\"}\n",
    "\n",
    "payload = {\"text\": text, \"input_type\":\"article\",\"steps\":[{\"skill\":\"summarize\",\"params\":{\"find_origins\":True, \"max_length\":100}}]}\n",
    "r = requests.post(url, json=payload, headers=headers)\n",
    "data = r.json()\n",
    "print(data['output'][0]['text'])"
   ]
  },
  {
   "cell_type": "code",
   "execution_count": 17,
   "id": "3f99b4cb",
   "metadata": {},
   "outputs": [
    {
     "name": "stdout",
     "output_type": "stream",
     "text": [
      "Collecting rouge-metric\n",
      "  Downloading rouge_metric-1.0.1-py3-none-any.whl (151 kB)\n",
      "\u001b[2K     \u001b[90m━━━━━━━━━━━━━━━━━━━━━━━━━━━━━━━━━━━━━━━\u001b[0m \u001b[32m151.7/151.7 kB\u001b[0m \u001b[31m2.4 MB/s\u001b[0m eta \u001b[36m0:00:00\u001b[0ma \u001b[36m0:00:01\u001b[0m\n",
      "\u001b[?25hInstalling collected packages: rouge-metric\n",
      "Successfully installed rouge-metric-1.0.1\n"
     ]
    }
   ],
   "source": [
    "!pip install rouge-metric\n",
    "from rouge_metric import PyRouge"
   ]
  },
  {
   "cell_type": "code",
   "execution_count": 18,
   "id": "efab48b4",
   "metadata": {},
   "outputs": [],
   "source": [
    "model_out = [\"German economy shrank by 2.2% in the first quarter compared with the previous three-month period. That means Europe’s biggest economy went into recession following a small dip at the end of last year. The decline in the January-March period was the biggest since 2009.\"]\n",
    "\n",
    "\n",
    "reference = ['Germany in recession as economy shrinks 2.2% in first quarter']\n"
   ]
  },
  {
   "cell_type": "code",
   "execution_count": 19,
   "id": "46369674",
   "metadata": {},
   "outputs": [],
   "source": [
    "# Evaluate document-wise ROUGE scores\n",
    "rouge = PyRouge(rouge_n=(1, 2, 4), rouge_l=True, rouge_w=True,\n",
    "                rouge_w_weight=1.2, rouge_s=True, rouge_su=True, skip_gap=4)\n",
    "scores = rouge.evaluate(model_out, reference)"
   ]
  },
  {
   "cell_type": "code",
   "execution_count": 20,
   "id": "5efe64df",
   "metadata": {},
   "outputs": [
    {
     "name": "stdout",
     "output_type": "stream",
     "text": [
      "{'rouge-1': {'r': 0.057692307692307696, 'p': 0.0011177347242921013, 'f': 0.0021929824561403508}, 'rouge-2': {'r': 0.0, 'p': 0.0, 'f': 0.0}, 'rouge-4': {'r': 0.0, 'p': 0.0, 'f': 0.0}, 'rouge-l': {'r': 0.057692307692307696, 'p': 0.0011177347242921013, 'f': 0.0021929824561403508}, 'rouge-w-1.2': {'r': 0.09281074509222681, 'p': 0.0018466028716864877, 'f': 0.0036211576195015823}, 'rouge-s4': {'r': 0.0, 'p': 0.0, 'f': 0.0}, 'rouge-su4': {'r': 0.0, 'p': 0.0, 'f': 0.0}}\n"
     ]
    }
   ],
   "source": [
    "print(scores)"
   ]
  },
  {
   "cell_type": "code",
   "execution_count": 21,
   "id": "f55d537b",
   "metadata": {},
   "outputs": [
    {
     "name": "stdout",
     "output_type": "stream",
     "text": [
      "{'rouge-1': {'r': 0.3, 'p': 0.10714285714285714, 'f': 0.15789473684210525}, 'rouge-2': {'r': 0.0, 'p': 0.0, 'f': 0.0}, 'rouge-3': {'r': 0.0, 'p': 0.0, 'f': 0.0}, 'rouge-4': {'r': 0.0, 'p': 0.0, 'f': 0.0}, 'rouge-l': {'r': 0.3, 'p': 0.10714285714285714, 'f': 0.15789473684210525}}\n"
     ]
    }
   ],
   "source": [
    "summary = [\n",
    "    'The decline in the January-March period was the biggest since 2009.<n>It followed a 0.3% gain in last year’s third quarter and a 0.1% contraction in the fourth quarter.'\n",
    "]\n",
    "reference = [[\n",
    "    'Germany in recession as economy shrinks 2.2% in first quarter'\n",
    "]]\n",
    "\n",
    "# Evaluate document-wise ROUGE scores\n",
    "rouge = PyRouge(rouge_n=(1, 2, 3, 4), rouge_l=True)\n",
    "scores = rouge.evaluate(summary, gold_truth)\n",
    "print(scores)"
   ]
  },
  {
   "cell_type": "code",
   "execution_count": null,
   "id": "ce4c8532",
   "metadata": {},
   "outputs": [],
   "source": [
    "\"\"\"\n",
    "1. extractive -> bert\n",
    "2. 2 abstractive-> pegasus          (if pegasus>extractive)then(one ai (max_length=100))  \n",
    "\n",
    "continue on monday$\n",
    "3. gold truth (from chat gpt)\n",
    "4. rogue for extractive, bart, one ai vs gold truth\n",
    "5. determine better model\n",
    "\n",
    "\n",
    "reference means gold truth\n",
    "\"\"\""
   ]
  },
  {
   "cell_type": "code",
   "execution_count": null,
   "id": "574e74b8",
   "metadata": {},
   "outputs": [],
   "source": [
    "\"\"\"\n",
    "sya \n",
    "1. clean text\n",
    "2. combine cnn and cna\n",
    "\n",
    "\n",
    "\"\"\""
   ]
  }
 ],
 "metadata": {
  "kernelspec": {
   "display_name": "Python 3 (ipykernel)",
   "language": "python",
   "name": "python3"
  },
  "language_info": {
   "codemirror_mode": {
    "name": "ipython",
    "version": 3
   },
   "file_extension": ".py",
   "mimetype": "text/x-python",
   "name": "python",
   "nbconvert_exporter": "python",
   "pygments_lexer": "ipython3",
   "version": "3.10.9"
  }
 },
 "nbformat": 4,
 "nbformat_minor": 5
}
