{
 "cells": [
  {
   "cell_type": "code",
   "execution_count": 1,
   "id": "a0044d7b",
   "metadata": {},
   "outputs": [],
   "source": [
    "# !pip install -q bert-extractive-summarizer\n",
    "# !pip install -q transformers\n",
    "# !pip install -q neuralcoref"
   ]
  },
  {
   "cell_type": "markdown",
   "id": "13a4593e",
   "metadata": {},
   "source": [
    "## Import packages"
   ]
  },
  {
   "cell_type": "code",
   "execution_count": 2,
   "id": "2467c493",
   "metadata": {},
   "outputs": [],
   "source": [
    "from summarizer import Summarizer\n",
    "from pprint import pprint\n",
    "import pandas as pd"
   ]
  },
  {
   "cell_type": "code",
   "execution_count": 4,
   "id": "bab7cc84",
   "metadata": {},
   "outputs": [
    {
     "data": {
      "text/html": [
       "<div>\n",
       "<style scoped>\n",
       "    .dataframe tbody tr th:only-of-type {\n",
       "        vertical-align: middle;\n",
       "    }\n",
       "\n",
       "    .dataframe tbody tr th {\n",
       "        vertical-align: top;\n",
       "    }\n",
       "\n",
       "    .dataframe thead th {\n",
       "        text-align: right;\n",
       "    }\n",
       "</style>\n",
       "<table border=\"1\" class=\"dataframe\">\n",
       "  <thead>\n",
       "    <tr style=\"text-align: right;\">\n",
       "      <th></th>\n",
       "      <th>Unnamed: 0</th>\n",
       "      <th>url</th>\n",
       "      <th>content</th>\n",
       "    </tr>\n",
       "  </thead>\n",
       "  <tbody>\n",
       "    <tr>\n",
       "      <th>0</th>\n",
       "      <td>0</td>\n",
       "      <td>https://www.channelnewsasia.com/sport/steely-m...</td>\n",
       "      <td>LONDON :Seven-time winners AC Milan reached th...</td>\n",
       "    </tr>\n",
       "    <tr>\n",
       "      <th>1</th>\n",
       "      <td>1</td>\n",
       "      <td>https://www.channelnewsasia.com/sport/choupo-m...</td>\n",
       "      <td>MUNICH: Bayern Munich forward Eric-Maxim Choup...</td>\n",
       "    </tr>\n",
       "    <tr>\n",
       "      <th>2</th>\n",
       "      <td>2</td>\n",
       "      <td>https://www.channelnewsasia.com/sport/chelsea-...</td>\n",
       "      <td>LONDON: Chelsea's Guro Reiten scored from the ...</td>\n",
       "    </tr>\n",
       "    <tr>\n",
       "      <th>3</th>\n",
       "      <td>3</td>\n",
       "      <td>https://www.channelnewsasia.com/sport/nothing-...</td>\n",
       "      <td>LONDON: AC Milan can dare to dream about going...</td>\n",
       "    </tr>\n",
       "    <tr>\n",
       "      <th>4</th>\n",
       "      <td>4</td>\n",
       "      <td>https://www.channelnewsasia.com/sport/contes-c...</td>\n",
       "      <td>LONDON: Antonio Conte's dismal record in the C...</td>\n",
       "    </tr>\n",
       "  </tbody>\n",
       "</table>\n",
       "</div>"
      ],
      "text/plain": [
       "   Unnamed: 0                                                url  \\\n",
       "0           0  https://www.channelnewsasia.com/sport/steely-m...   \n",
       "1           1  https://www.channelnewsasia.com/sport/choupo-m...   \n",
       "2           2  https://www.channelnewsasia.com/sport/chelsea-...   \n",
       "3           3  https://www.channelnewsasia.com/sport/nothing-...   \n",
       "4           4  https://www.channelnewsasia.com/sport/contes-c...   \n",
       "\n",
       "                                             content  \n",
       "0  LONDON :Seven-time winners AC Milan reached th...  \n",
       "1  MUNICH: Bayern Munich forward Eric-Maxim Choup...  \n",
       "2  LONDON: Chelsea's Guro Reiten scored from the ...  \n",
       "3  LONDON: AC Milan can dare to dream about going...  \n",
       "4  LONDON: Antonio Conte's dismal record in the C...  "
      ]
     },
     "execution_count": 4,
     "metadata": {},
     "output_type": "execute_result"
    }
   ],
   "source": [
    "df = pd.read_csv(\"../../2.text_preprocessing/cna_FINAL.csv\")\n",
    "df.head()"
   ]
  },
  {
   "cell_type": "markdown",
   "id": "cb29c707",
   "metadata": {},
   "source": [
    "## Load model"
   ]
  },
  {
   "cell_type": "code",
   "execution_count": 5,
   "id": "d58a3f86",
   "metadata": {},
   "outputs": [
    {
     "name": "stderr",
     "output_type": "stream",
     "text": [
      "Some weights of the model checkpoint at bert-large-uncased were not used when initializing BertModel: ['cls.seq_relationship.weight', 'cls.seq_relationship.bias', 'cls.predictions.decoder.weight', 'cls.predictions.transform.dense.bias', 'cls.predictions.transform.dense.weight', 'cls.predictions.bias', 'cls.predictions.transform.LayerNorm.weight', 'cls.predictions.transform.LayerNorm.bias']\n",
      "- This IS expected if you are initializing BertModel from the checkpoint of a model trained on another task or with another architecture (e.g. initializing a BertForSequenceClassification model from a BertForPreTraining model).\n",
      "- This IS NOT expected if you are initializing BertModel from the checkpoint of a model that you expect to be exactly identical (initializing a BertForSequenceClassification model from a BertForSequenceClassification model).\n"
     ]
    }
   ],
   "source": [
    "model = Summarizer()"
   ]
  },
  {
   "cell_type": "code",
   "execution_count": 4,
   "id": "3bf313a0",
   "metadata": {},
   "outputs": [
    {
     "name": "stdout",
     "output_type": "stream",
     "text": [
      "LONDON :Seven-time winners AC Milan reached the Champions League quarter-finals for the first time in 11 years as a disciplined display earned them a drab 0-0 draw at Tottenham Hotspur on Wednesday and a 1-0 aggregate victory. Milan could have made it a more comfortable night had they taken any of the good chances they created but in the end a masterclass of game management saw them through. Milan may be some way off returning to their European pomp but while they lack the household names of the late 1980s and early 1990s, Pioli's team had too much craft for a meek Tottenham side who were booed at the final whistle. We made it to the quarters, now let's see what happens in the draw.\" Tottenham's three-man attack of Harry Kane, Son Heung-min and Dejan Kulusevski were forced to feed on scraps and while Milan were hardly any more potent they did have the first decent chance when Junior Messias drilled a shot wide.\n"
     ]
    },
    {
     "name": "stderr",
     "output_type": "stream",
     "text": [
      "/Users/christine/anaconda3/lib/python3.10/site-packages/sklearn/cluster/_kmeans.py:870: FutureWarning: The default value of `n_init` will change from 10 to 'auto' in 1.4. Set the value of `n_init` explicitly to suppress the warning\n",
      "  warnings.warn(\n"
     ]
    }
   ],
   "source": [
    "for i in df.content:\n",
    "    result = model(i, num_sentences=5, min_length=60)\n",
    "    print(result)\n",
    "    break"
   ]
  },
  {
   "cell_type": "code",
   "execution_count": 9,
   "id": "19f85686",
   "metadata": {},
   "outputs": [
    {
     "data": {
      "text/plain": [
       "Unnamed: 0                                                                                                                                                                                                                                                                                                                                                                                                                                                                                                                                                                                                                                                                                                                                                                                                                                                                                                                                                                                                                                                                                                                                                                                                                                                                                                                                                                                                                                                                                                                                                                                                                                                                                                                                                                                                                                                                                                                                                                                                                                                                                                                                                                                                                                                                                                                                                                                                                                                                                                                                                                                                                                                                                                                                                                                                                                                                                                                                                                                                                                                                                                                                                                                                                                                                                                                                   0\n",
       "url                                                                                                                                                                                                                                                                                                                                                                                                                                                                                                                                                                                                                                                                                                                                                                                                                                                                                                                                                                                                                                                                                                                                                                                                                                                                                                                                                                                                                                                                                                                                                                                                                                                                                                                                                                                                                                                                                                                                                                                                                                                                                                                                                                                                                                                                                                                                                                                                                                                                                                                                                                                                                                                                                                                                                                                                                                                                                                                                                                                                                                                                                                                                                                                                                                  https://www.channelnewsasia.com/sport/steely-milan-edge-tottenham-reach-champions-league-quarters-3335581\n",
       "content       LONDON :Seven-time winners AC Milan reached the Champions League quarter-finals for the first time in 11 years as a disciplined display earned them a drab 0-0 draw at Tottenham Hotspur on Wednesday and a 1-0 aggregate victory.\\n\\nOn a freezing night in north London the Italians comfortably protected the slender advantage they established in the first leg of their last-16 tie at the San Siro as Tottenham huffed and puffed to little effect and exited with a whimper.\\n\\nTottenham failed to muster an attempt on target in the first half as their frustration boiled over with manager Antonio Conte booked for letting his emotions get the better of him while they had defender Cristian Romero sent off late on.\\n\\nMilan could have made it a more comfortable night had they taken any of the good chances they created but in the end a masterclass of game management saw them through.\\n\\nWhile Stefano Pioli's Milan can look forward with optimism, Tottenham's season is fizzling out after a dismal week in which they also lost in the FA Cup to second-tier Sheffield United and to Wolverhampton Wanderers in the Premier League.\\n\\nMilan may be some way off returning to their European pomp but while they lack the household names of the late 1980s and early 1990s, Pioli's team had too much craft for a meek Tottenham side who were booed at the final whistle.\\n\\n\"We knew it would be tough, but we managed. I asked the players to show character. We never gave up, and we deserved to progress,\" Pioli said. \"We made it to the quarters, now let's see what happens in the draw.\"\\n\\nTHIRD GEAR\\n\\nThe match kicked off 10 minutes late because of traffic issues and in truth Tottenham never got out of third gear.\\n\\nConsidering it was flagged as their biggest game of the season there was a mystifying lack of urgency from the hosts in the first half in which they offered the home faithful nothing to warm their spirits.\\n\\nTottenham's three-man attack of Harry Kane, Son Heung-min and Dejan Kulusevski were forced to feed on scraps and while Milan were hardly any more potent they did have the first decent chance when Junior Messias drilled a shot wide.\\n\\nThe Italians came close to taking the lead just after the interval when the ball broke for first-leg scorer Brahim Diaz but his shot was blocked by the legs of Fraser Forster.\\n\\nWith the clock showing 64 minutes Tottenham finally warmed the gloves of Milan keeper Mike Maignan as Pierre-Emile Hojbjerg, suspended for the first leg, fired in an angled drive that was parried over for a corner.\\n\\nAs Tottenham committed men forward gaps appeared at the back and Rafael Leao had an effort blocked and then sent another attempt over the crossbar.\\n\\nKane sent a stooping header wide as the game began to open up and Tottenham rolled the dice by sending on forward Richarlison in place of wing back Emerson.\\n\\nConte was then jeered for hauling off Kulusevski for defender Davinson Sanchez as time ran out.\\n\\nKane went close to levelling in stoppage time with a skidding header superbly saved by Maignan but Milan almost crowned their night on the counter-attack with substitute Divock Origi hitting the post in front of their already-celebrating fans.\n",
       "Name: 0, dtype: object"
      ]
     },
     "execution_count": 9,
     "metadata": {},
     "output_type": "execute_result"
    }
   ],
   "source": [
    "pd.set_option(\"max_colwidth\", None)\n",
    "\n",
    "df.iloc[0]"
   ]
  }
 ],
 "metadata": {
  "kernelspec": {
   "display_name": "Python 3 (ipykernel)",
   "language": "python",
   "name": "python3"
  },
  "language_info": {
   "codemirror_mode": {
    "name": "ipython",
    "version": 3
   },
   "file_extension": ".py",
   "mimetype": "text/x-python",
   "name": "python",
   "nbconvert_exporter": "python",
   "pygments_lexer": "ipython3",
   "version": "3.10.9"
  }
 },
 "nbformat": 4,
 "nbformat_minor": 5
}
