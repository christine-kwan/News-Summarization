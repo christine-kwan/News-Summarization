{
 "cells": [
  {
   "cell_type": "code",
   "execution_count": 1,
   "metadata": {},
   "outputs": [],
   "source": [
    "text=\"novak djokovic is ranked no 1 in the world for the record 378th time.the 22-time grand slam champion broke the mark set by steffi graf.djokovic, 35, has 6,980 points in the latest atp rankings, 200 more than no 2 carlos alcaraz of spain.'it\\'s surreal to be that many weeks no 1, to match graf - one of the all-time greats,' djokovic said. 'just being amongst these legendary names is flattering. i\\'m proud of it.'djokovic first rose to no 1 at the age of 24 on jul 4, 2011. he spent a personal-best 122 consecutive weeks at the top from 2014-16.djokovic won his men\\'s record-tying 22nd major title last month at the australian open. the serbian star returns to action tuesday at the dubai duty free tennis championships.graf, also a 22-time grand slam winner, was no 1 in the women\\'s rankings for 377 weeks before retiring in 1999.martina navratilova ranks third on the all-time list with 332 weeks at no 1, with serena williams (319) and roger federer (310) rounding out the top five.\""
   ]
  },
  {
   "cell_type": "code",
   "execution_count": 2,
   "metadata": {},
   "outputs": [
    {
     "name": "stdout",
     "output_type": "stream",
     "text": [
      "Serbia's Novak djokovic has broken the all-time record for the most weeks at the top of the men's world rankings, breaking the mark set by one of the sport's all-time greats, steffi graf.\n"
     ]
    }
   ],
   "source": [
    "import numpy as np\n",
    "import pandas as pd\n",
    "from transformers import AutoTokenizer, AutoModelForSeq2SeqLM\n",
    "from rouge_metric import PyRouge\n",
    "from evaluate import load\n",
    "\n",
    "model = AutoModelForSeq2SeqLM.from_pretrained('google/pegasus-xsum')\n",
    "tokenizer = AutoTokenizer.from_pretrained('google/pegasus-xsum')\n",
    "\n",
    "tokens_input = tokenizer.encode(\"summarize: \"+ text, return_tensors='pt', truncation=True)\n",
    "ids = model.generate(tokens_input, min_length=50, max_length=200)\n",
    "summary = tokenizer.decode(ids[0], skip_special_tokens=True)\n",
    "\n",
    "print(summary)"
   ]
  },
  {
   "cell_type": "code",
   "execution_count": 3,
   "metadata": {},
   "outputs": [
    {
     "name": "stderr",
     "output_type": "stream",
     "text": [
      "Some weights of the model checkpoint at bert-large-uncased were not used when initializing BertModel: ['cls.seq_relationship.weight', 'cls.predictions.transform.dense.weight', 'cls.seq_relationship.bias', 'cls.predictions.transform.LayerNorm.weight', 'cls.predictions.decoder.weight', 'cls.predictions.transform.dense.bias', 'cls.predictions.transform.LayerNorm.bias', 'cls.predictions.bias']\n",
      "- This IS expected if you are initializing BertModel from the checkpoint of a model trained on another task or with another architecture (e.g. initializing a BertForSequenceClassification model from a BertForPreTraining model).\n",
      "- This IS NOT expected if you are initializing BertModel from the checkpoint of a model that you expect to be exactly identical (initializing a BertForSequenceClassification model from a BertForSequenceClassification model).\n"
     ]
    },
    {
     "name": "stdout",
     "output_type": "stream",
     "text": [
      "novak djokovic is ranked no 1 in the world for the record 378th time.the 22-time grand slam champion broke the mark set by steffi graf.djokovic, 35, has 6,980 points in the latest atp rankings, 200 more than no 2 carlos alcaraz of spain. 'it's surreal to be that many weeks no 1, to match graf - one of the all-time greats,' djokovic said. ' just being amongst these legendary names is flattering. 'djokovic first rose to no 1 at the age of 24 on jul 4, 2011. the serbian star returns to action tuesday at the dubai duty free tennis championships.graf, also a 22-time grand slam winner, was no 1 in the women's rankings for 377 weeks before retiring in 1999.martina navratilova ranks third on the all-time list with 332 weeks at no 1, with serena williams (319) and roger federer (310) rounding out the top five.\n"
     ]
    },
    {
     "name": "stderr",
     "output_type": "stream",
     "text": [
      "/Users/christine/anaconda3/lib/python3.10/site-packages/sklearn/cluster/_kmeans.py:870: FutureWarning: The default value of `n_init` will change from 10 to 'auto' in 1.4. Set the value of `n_init` explicitly to suppress the warning\n",
      "  warnings.warn(\n"
     ]
    }
   ],
   "source": [
    "# !pip install -q bert-extractive-summarizer\n",
    "# !pip install -q transformers\n",
    "# !pip install -q neuralcoref\n",
    "from summarizer import Summarizer\n",
    "from pprint import pprint\n",
    "import pandas as pd\n",
    "model = Summarizer()\n",
    "\n",
    "result = model(text, num_sentences=5)\n",
    "print(result)"
   ]
  }
 ],
 "metadata": {
  "kernelspec": {
   "display_name": "Python 3 (ipykernel)",
   "language": "python",
   "name": "python3"
  },
  "language_info": {
   "codemirror_mode": {
    "name": "ipython",
    "version": 3
   },
   "file_extension": ".py",
   "mimetype": "text/x-python",
   "name": "python",
   "nbconvert_exporter": "python",
   "pygments_lexer": "ipython3",
   "version": "3.10.9"
  }
 },
 "nbformat": 4,
 "nbformat_minor": 2
}
