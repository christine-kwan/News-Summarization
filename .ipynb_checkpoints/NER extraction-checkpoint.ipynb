{
 "cells": [
  {
   "cell_type": "code",
   "execution_count": 1,
   "id": "e8862d91",
   "metadata": {},
   "outputs": [],
   "source": [
    "import pandas as pd\n",
    "\n",
    "import re\n",
    "\n",
    "import nltk\n",
    "from nltk.tokenize import word_tokenize\n",
    "\n",
    "import spacy\n",
    "from spacy.lang.en import English\n",
    "nlp = spacy.load(\"en_core_web_sm\")"
   ]
  },
  {
   "cell_type": "markdown",
   "id": "8d36e52c",
   "metadata": {},
   "source": [
    "### Definitions"
   ]
  },
  {
   "cell_type": "code",
   "execution_count": 2,
   "id": "64757a81",
   "metadata": {},
   "outputs": [],
   "source": [
    "def cleaning(content):\n",
    "    cleaned = []\n",
    "    for x in content:\n",
    "        remove_cnn = re.sub(\"CNN\", \"\", x)\n",
    "        remove_nextline = re.sub(\"[\\n]{2}\", \"\", remove_cnn)\n",
    "        remove_dash = re.sub(\"\\u2014\", \"\", remove_nextline)\n",
    "        cleaned.append(remove_dash)\n",
    "    return cleaned"
   ]
  },
  {
   "cell_type": "code",
   "execution_count": 3,
   "id": "bb45832b",
   "metadata": {},
   "outputs": [],
   "source": [
    "def extract_ne_from_tree ( tree ):\n",
    "    result = []\n",
    "    for s in tree.subtrees():\n",
    "        label = s.label()\n",
    "        if (label == 'PERSON' or label == 'GPE' or label == 'LOCATION' or label == 'ORGANIZATION'):\n",
    "            leaves = s.leaves()\n",
    "            ne = ''\n",
    "            for l in leaves:\n",
    "                ne = ne + ' ' + l[0]\n",
    "            result.append((label, ne[1:]))\n",
    "    return result"
   ]
  },
  {
   "cell_type": "code",
   "execution_count": 4,
   "id": "7d42964b",
   "metadata": {},
   "outputs": [],
   "source": [
    "def ner_info_extraction(content ,content_list):\n",
    "    for x in content:\n",
    "        res_sents = nltk.sent_tokenize(x)\n",
    "        res_tokens = [word_tokenize(sents) for sents in res_sents]\n",
    "        tagged_res = [nltk.pos_tag(tokens) for tokens in res_tokens]\n",
    "        res_tree = [nltk.ne_chunk(elem) for elem in tagged_res]\n",
    "        res_list = [extract_ne_from_tree(tree) for tree in res_tree]\n",
    "        content_list+=[(res_list)]"
   ]
  },
  {
   "cell_type": "code",
   "execution_count": 5,
   "id": "49d0eaa7",
   "metadata": {},
   "outputs": [],
   "source": [
    "def ner_sorting(content ,location, gpe, person):\n",
    "    for row in content:\n",
    "        check_location = []\n",
    "        check_gpe = []\n",
    "        check_person = []\n",
    "        for sent in row:\n",
    "            if len(sent)!=0:\n",
    "                for tup in sent:\n",
    "                    if tup[0] == \"LOCATION\":\n",
    "                        if tup[1] not in check_location:\n",
    "                            check_location.append(tup[1])\n",
    "                    if tup[0] == \"GPE\":\n",
    "                        if tup[1] not in check_gpe:\n",
    "                            check_gpe.append(tup[1])\n",
    "                    if tup[0] == \"PERSON\":\n",
    "                        if tup[1] not in check_person:\n",
    "                            check_person.append(tup[1])\n",
    "        location.append(check_location)\n",
    "        gpe.append(check_gpe)\n",
    "        person.append(check_person)"
   ]
  },
  {
   "cell_type": "code",
   "execution_count": 6,
   "id": "ca3b41e0",
   "metadata": {},
   "outputs": [],
   "source": [
    "def spacy_ner(content):\n",
    "    cnn_list = []\n",
    "    for doc in content:\n",
    "        temp = []\n",
    "        for token in doc:\n",
    "            ner_tags = [token.text, token.ent_type_]\n",
    "            if ner_tags[1]==\"ORG\" or ner_tags[1]==\"PERSON\" or ner_tags[1]==\"GPE\":\n",
    "                temp.append(ner_tags)\n",
    "        cnn_list.append(temp)\n",
    "    return cnn_list"
   ]
  },
  {
   "cell_type": "code",
   "execution_count": 7,
   "id": "0a1ef38a",
   "metadata": {},
   "outputs": [],
   "source": [
    "def spacy_sorting(content):\n",
    "    org = []\n",
    "    gpe = []\n",
    "    person = []\n",
    "    for row in content:\n",
    "        check_org = []\n",
    "        check_gpe = []\n",
    "        check_person = []\n",
    "        if len(row)!=0:\n",
    "            for tup in row:\n",
    "                if tup[1] == \"ORG\":\n",
    "                    if tup[0] not in check_org:\n",
    "                        check_org.append(tup[0])\n",
    "                if tup[1] == \"GPE\":\n",
    "                    if tup[0] not in check_gpe:\n",
    "                        check_gpe.append(tup[0])\n",
    "                if tup[1] == \"PERSON\":\n",
    "                    if tup[0] not in check_person:\n",
    "                        check_person.append(tup[0])\n",
    "        org.append(check_org)\n",
    "        gpe.append(check_gpe)\n",
    "        person.append(check_person)\n",
    "    return [org, gpe, person]"
   ]
  },
  {
   "cell_type": "markdown",
   "id": "6a047407",
   "metadata": {},
   "source": [
    "### cnn news"
   ]
  },
  {
   "cell_type": "code",
   "execution_count": 9,
   "id": "0df1374a",
   "metadata": {},
   "outputs": [
    {
     "ename": "ValueError",
     "evalue": "No objects to concatenate",
     "output_type": "error",
     "traceback": [
      "\u001b[1;31m---------------------------------------------------------------------------\u001b[0m",
      "\u001b[1;31mValueError\u001b[0m                                Traceback (most recent call last)",
      "\u001b[1;32m<ipython-input-9-c900c08199a5>\u001b[0m in \u001b[0;36m<module>\u001b[1;34m\u001b[0m\n\u001b[0;32m     18\u001b[0m \u001b[1;33m\u001b[0m\u001b[0m\n\u001b[0;32m     19\u001b[0m \u001b[0mdf_list\u001b[0m \u001b[1;33m=\u001b[0m \u001b[1;33m(\u001b[0m\u001b[0mpd\u001b[0m\u001b[1;33m.\u001b[0m\u001b[0mread_csv\u001b[0m\u001b[1;33m(\u001b[0m\u001b[0mfile\u001b[0m\u001b[1;33m)\u001b[0m \u001b[1;32mfor\u001b[0m \u001b[0mfile\u001b[0m \u001b[1;32min\u001b[0m \u001b[0mall_files\u001b[0m\u001b[1;33m)\u001b[0m\u001b[1;33m\u001b[0m\u001b[1;33m\u001b[0m\u001b[0m\n\u001b[1;32m---> 20\u001b[1;33m \u001b[0mcnn\u001b[0m   \u001b[1;33m=\u001b[0m \u001b[0mpd\u001b[0m\u001b[1;33m.\u001b[0m\u001b[0mconcat\u001b[0m\u001b[1;33m(\u001b[0m\u001b[0mdf_list\u001b[0m\u001b[1;33m,\u001b[0m \u001b[0mignore_index\u001b[0m\u001b[1;33m=\u001b[0m\u001b[1;32mTrue\u001b[0m\u001b[1;33m)\u001b[0m\u001b[1;33m\u001b[0m\u001b[1;33m\u001b[0m\u001b[0m\n\u001b[0m\u001b[0;32m     21\u001b[0m \u001b[0mcnn\u001b[0m \u001b[1;33m=\u001b[0m \u001b[0mcnn\u001b[0m\u001b[1;33m.\u001b[0m\u001b[0mloc\u001b[0m\u001b[1;33m[\u001b[0m\u001b[1;33m:\u001b[0m\u001b[1;33m,\u001b[0m\u001b[1;33m[\u001b[0m\u001b[1;34m'url'\u001b[0m\u001b[1;33m,\u001b[0m\u001b[1;34m'content'\u001b[0m\u001b[1;33m]\u001b[0m\u001b[1;33m]\u001b[0m\u001b[1;33m\u001b[0m\u001b[1;33m\u001b[0m\u001b[0m\n\u001b[0;32m     22\u001b[0m \u001b[0mcnn\u001b[0m\u001b[1;33m\u001b[0m\u001b[1;33m\u001b[0m\u001b[0m\n",
      "\u001b[1;32m~\\anaconda3\\lib\\site-packages\\pandas\\util\\_decorators.py\u001b[0m in \u001b[0;36mwrapper\u001b[1;34m(*args, **kwargs)\u001b[0m\n\u001b[0;32m    315\u001b[0m                     \u001b[0mstacklevel\u001b[0m\u001b[1;33m=\u001b[0m\u001b[0mfind_stack_level\u001b[0m\u001b[1;33m(\u001b[0m\u001b[0minspect\u001b[0m\u001b[1;33m.\u001b[0m\u001b[0mcurrentframe\u001b[0m\u001b[1;33m(\u001b[0m\u001b[1;33m)\u001b[0m\u001b[1;33m)\u001b[0m\u001b[1;33m,\u001b[0m\u001b[1;33m\u001b[0m\u001b[1;33m\u001b[0m\u001b[0m\n\u001b[0;32m    316\u001b[0m                 )\n\u001b[1;32m--> 317\u001b[1;33m             \u001b[1;32mreturn\u001b[0m \u001b[0mfunc\u001b[0m\u001b[1;33m(\u001b[0m\u001b[1;33m*\u001b[0m\u001b[0margs\u001b[0m\u001b[1;33m,\u001b[0m \u001b[1;33m**\u001b[0m\u001b[0mkwargs\u001b[0m\u001b[1;33m)\u001b[0m\u001b[1;33m\u001b[0m\u001b[1;33m\u001b[0m\u001b[0m\n\u001b[0m\u001b[0;32m    318\u001b[0m \u001b[1;33m\u001b[0m\u001b[0m\n\u001b[0;32m    319\u001b[0m         \u001b[1;32mreturn\u001b[0m \u001b[0mwrapper\u001b[0m\u001b[1;33m\u001b[0m\u001b[1;33m\u001b[0m\u001b[0m\n",
      "\u001b[1;32m~\\anaconda3\\lib\\site-packages\\pandas\\core\\reshape\\concat.py\u001b[0m in \u001b[0;36mconcat\u001b[1;34m(objs, axis, join, ignore_index, keys, levels, names, verify_integrity, sort, copy)\u001b[0m\n\u001b[0;32m    367\u001b[0m     \u001b[1;36m1\u001b[0m   \u001b[1;36m3\u001b[0m   \u001b[1;36m4\u001b[0m\u001b[1;33m\u001b[0m\u001b[1;33m\u001b[0m\u001b[0m\n\u001b[0;32m    368\u001b[0m     \"\"\"\n\u001b[1;32m--> 369\u001b[1;33m     op = _Concatenator(\n\u001b[0m\u001b[0;32m    370\u001b[0m         \u001b[0mobjs\u001b[0m\u001b[1;33m,\u001b[0m\u001b[1;33m\u001b[0m\u001b[1;33m\u001b[0m\u001b[0m\n\u001b[0;32m    371\u001b[0m         \u001b[0maxis\u001b[0m\u001b[1;33m=\u001b[0m\u001b[0maxis\u001b[0m\u001b[1;33m,\u001b[0m\u001b[1;33m\u001b[0m\u001b[1;33m\u001b[0m\u001b[0m\n",
      "\u001b[1;32m~\\anaconda3\\lib\\site-packages\\pandas\\core\\reshape\\concat.py\u001b[0m in \u001b[0;36m__init__\u001b[1;34m(self, objs, axis, join, keys, levels, names, ignore_index, verify_integrity, copy, sort)\u001b[0m\n\u001b[0;32m    424\u001b[0m \u001b[1;33m\u001b[0m\u001b[0m\n\u001b[0;32m    425\u001b[0m         \u001b[1;32mif\u001b[0m \u001b[0mlen\u001b[0m\u001b[1;33m(\u001b[0m\u001b[0mobjs\u001b[0m\u001b[1;33m)\u001b[0m \u001b[1;33m==\u001b[0m \u001b[1;36m0\u001b[0m\u001b[1;33m:\u001b[0m\u001b[1;33m\u001b[0m\u001b[1;33m\u001b[0m\u001b[0m\n\u001b[1;32m--> 426\u001b[1;33m             \u001b[1;32mraise\u001b[0m \u001b[0mValueError\u001b[0m\u001b[1;33m(\u001b[0m\u001b[1;34m\"No objects to concatenate\"\u001b[0m\u001b[1;33m)\u001b[0m\u001b[1;33m\u001b[0m\u001b[1;33m\u001b[0m\u001b[0m\n\u001b[0m\u001b[0;32m    427\u001b[0m \u001b[1;33m\u001b[0m\u001b[0m\n\u001b[0;32m    428\u001b[0m         \u001b[1;32mif\u001b[0m \u001b[0mkeys\u001b[0m \u001b[1;32mis\u001b[0m \u001b[1;32mNone\u001b[0m\u001b[1;33m:\u001b[0m\u001b[1;33m\u001b[0m\u001b[1;33m\u001b[0m\u001b[0m\n",
      "\u001b[1;31mValueError\u001b[0m: No objects to concatenate"
     ]
    }
   ],
   "source": [
    "# merge cnn news into 1 dataframe\n",
    "# cnn_27feb = pd.read_csv('cnn_27feb.csv')\n",
    "# cnn_28feb = pd.read_csv('cnn_28feb.csv')\n",
    "# cnn_1mar = pd.read_csv('cnn_1mar.csv')\n",
    "# cnn_2mar = pd.read_csv('cnn_2mar.csv')\n",
    "# cnn_3mar = pd.read_csv('cnn_3mar.csv')\n",
    "# cnn_8mar = pd.read_csv('cnn_8mar.csv')\n",
    "# cnn_9mar = pd.read_csv('cnn_9mar.csv')\n",
    "# cnn = pd.concat([cnn_27feb, cnn_28feb, cnn_1mar, cnn_2mar, cnn_3mar, cnn_8mar, cnn_9mar])\n",
    "# print(cnn.shape)\n",
    "# cnn.head()\n",
    "\n",
    "import glob\n",
    "import os\n",
    "\n",
    "path = r'C:\\latest_news_scraper\\cna_news' # use your path\n",
    "all_files = glob.glob(path + \"/*.csv\")\n",
    "\n",
    "df_list = (pd.read_csv(file) for file in all_files)\n",
    "cnn   = pd.concat(df_list, ignore_index=True)\n",
    "cnn = cnn.loc[:,['url','content']]\n",
    "cnn"
   ]
  },
  {
   "cell_type": "markdown",
   "id": "8adf6409",
   "metadata": {},
   "source": [
    "Cleaning\n",
    "- Remove CNN\n",
    "- Remove stopwords"
   ]
  },
  {
   "cell_type": "code",
   "execution_count": null,
   "id": "a311faf1",
   "metadata": {},
   "outputs": [],
   "source": [
    "cleaned = cleaning(cnn['content'])\n",
    "print(cleaned)"
   ]
  },
  {
   "cell_type": "code",
   "execution_count": null,
   "id": "b2cb7f8c",
   "metadata": {},
   "outputs": [],
   "source": [
    "cnn['cleaned_content'] = cleaned\n",
    "\n",
    "cnn.head()"
   ]
  },
  {
   "cell_type": "markdown",
   "id": "006879e9",
   "metadata": {},
   "source": [
    "NLTK extraction"
   ]
  },
  {
   "cell_type": "code",
   "execution_count": null,
   "id": "c8e4e317",
   "metadata": {},
   "outputs": [],
   "source": [
    "cnn_content = []\n",
    "\n",
    "ner_info_extraction(cnn['cleaned_content'],cnn_content)\n",
    "    \n",
    "print(cnn_content)"
   ]
  },
  {
   "cell_type": "code",
   "execution_count": null,
   "id": "e15fcb53",
   "metadata": {},
   "outputs": [],
   "source": [
    "location_with_brac = []\n",
    "gpe_with_brac = []\n",
    "person_with_brac = []\n",
    "\n",
    "ner_sorting(cnn_content, location_with_brac, gpe_with_brac, person_with_brac)\n",
    "\n",
    "print(location_with_brac)\n",
    "print()\n",
    "\n",
    "print(gpe_with_brac)\n",
    "print()\n",
    "\n",
    "print(person_with_brac)\n",
    "print()"
   ]
  },
  {
   "cell_type": "code",
   "execution_count": null,
   "id": "032ae265",
   "metadata": {},
   "outputs": [],
   "source": [
    "cnn['location_with_brac'] = location_with_brac\n",
    "cnn['gpe_with_brac'] = gpe_with_brac\n",
    "cnn['person_with_brac'] = person_with_brac\n",
    "\n",
    "cnn['nltk_location']=cnn['location_with_brac'].apply(lambda x: ','.join(map(str, x)))\n",
    "cnn['nltk_gpe'] = cnn['gpe_with_brac'].apply(lambda x: ', '.join(map(str, x)))\n",
    "cnn['nltk_person'] = cnn['person_with_brac'].apply(lambda x: ', '.join(map(str, x)))\n",
    "\n",
    "cnn = cnn.drop(columns=['location_with_brac','gpe_with_brac','person_with_brac', 'Unnamed: 0'],axis = 1)\n",
    "\n",
    "cnn.head()"
   ]
  },
  {
   "cell_type": "markdown",
   "id": "97226ddf",
   "metadata": {},
   "source": [
    "spacy"
   ]
  },
  {
   "cell_type": "code",
   "execution_count": null,
   "id": "be0f0d6a",
   "metadata": {},
   "outputs": [],
   "source": [
    "cont = cnn['cleaned_content'].apply(nlp)\n",
    "\n",
    "cnn_list = spacy_ner(cont)\n",
    "    \n",
    "print(cnn_list)"
   ]
  },
  {
   "cell_type": "code",
   "execution_count": null,
   "id": "c06e22a2",
   "metadata": {},
   "outputs": [],
   "source": [
    "sort = spacy_sorting(cnn_list)\n",
    "\n",
    "print(sort[0])\n",
    "print()\n",
    "\n",
    "print(sort[1])\n",
    "print()\n",
    "\n",
    "print(sort[2])"
   ]
  },
  {
   "cell_type": "code",
   "execution_count": null,
   "id": "d8123d72",
   "metadata": {},
   "outputs": [],
   "source": [
    "cnn['org_with_brac'] = sort[0]\n",
    "cnn['gpe_with_brac'] = sort[1]\n",
    "cnn['person_with_brac'] = sort[2]\n",
    "\n",
    "cnn['spacy_org']=cnn['org_with_brac'].apply(lambda x: ','.join(map(str, x)))\n",
    "cnn['spacy_gpe'] = cnn['gpe_with_brac'].apply(lambda x: ', '.join(map(str, x)))\n",
    "cnn['spacy_person'] = cnn['person_with_brac'].apply(lambda x: ', '.join(map(str, x)))\n",
    "\n",
    "cnn = cnn.drop(columns=['org_with_brac','gpe_with_brac','person_with_brac'],axis = 1)\n",
    "\n",
    "cnn.head()"
   ]
  },
  {
   "cell_type": "code",
   "execution_count": null,
   "id": "1e184464",
   "metadata": {},
   "outputs": [],
   "source": [
    "cnn.to_csv('cnn_cleaned_with_NER.csv')"
   ]
  },
  {
   "cell_type": "markdown",
   "id": "55becee5",
   "metadata": {},
   "source": [
    "### cna news"
   ]
  },
  {
   "cell_type": "code",
   "execution_count": null,
   "id": "fd35f35a",
   "metadata": {},
   "outputs": [],
   "source": [
    "# Merging cna news into 1 dataframe\n",
    "cna_27feb = pd.read_csv('cna_27feb.csv')\n",
    "cna_28feb = pd.read_csv('cna_28feb.csv')\n",
    "cna_1mar = pd.read_csv('cna_1mar.csv')\n",
    "cna_2mar = pd.read_csv('cna_2mar.csv')\n",
    "cna_3mar = pd.read_csv('cna_3mar.csv')\n",
    "cna_8mar = pd.read_csv('cna_8mar.csv')\n",
    "cna_9mar = pd.read_csv('cna_9mar.csv')\n",
    "cna = pd.concat([cna_27feb, cna_28feb, cna_1mar, cna_2mar, cna_3mar, cna_8mar, cna_9mar])\n",
    "print(cna.shape)\n",
    "cna.head()"
   ]
  },
  {
   "cell_type": "markdown",
   "id": "7f7c2301",
   "metadata": {},
   "source": [
    "cleaning"
   ]
  },
  {
   "cell_type": "code",
   "execution_count": null,
   "id": "defd4710",
   "metadata": {},
   "outputs": [],
   "source": [
    "cleaned = cleaning(cna['content'])\n",
    "print(cleaned)"
   ]
  },
  {
   "cell_type": "code",
   "execution_count": null,
   "id": "c066fb95",
   "metadata": {},
   "outputs": [],
   "source": [
    "cna['cleaned_content'] = cleaned\n",
    "\n",
    "cna.head()"
   ]
  },
  {
   "cell_type": "markdown",
   "id": "23768fc3",
   "metadata": {},
   "source": [
    "NLTK extraction"
   ]
  },
  {
   "cell_type": "code",
   "execution_count": null,
   "id": "673920f8",
   "metadata": {},
   "outputs": [],
   "source": [
    "cna_content = []\n",
    "\n",
    "ner_info_extraction(cna['cleaned_content'],cna_content)\n",
    "    \n",
    "print(cna_content)"
   ]
  },
  {
   "cell_type": "code",
   "execution_count": null,
   "id": "66053558",
   "metadata": {},
   "outputs": [],
   "source": [
    "location_with_brac = []\n",
    "gpe_with_brac = []\n",
    "person_with_brac = []\n",
    "\n",
    "ner_sorting(cna_content, location_with_brac, gpe_with_brac, person_with_brac)\n",
    "\n",
    "print(location_with_brac)\n",
    "print()\n",
    "\n",
    "print(gpe_with_brac)\n",
    "print()\n",
    "\n",
    "print(person_with_brac)\n",
    "print()"
   ]
  },
  {
   "cell_type": "code",
   "execution_count": null,
   "id": "b0259347",
   "metadata": {},
   "outputs": [],
   "source": [
    "cna['location_with_brac'] = location_with_brac\n",
    "cna['gpe_with_brac'] = gpe_with_brac\n",
    "cna['person_with_brac'] = person_with_brac\n",
    "\n",
    "cna['location']=cna['location_with_brac'].apply(lambda x: ','.join(map(str, x)))\n",
    "cna['gpe'] = cna['gpe_with_brac'].apply(lambda x: ', '.join(map(str, x)))\n",
    "cna['person'] = cna['person_with_brac'].apply(lambda x: ', '.join(map(str, x)))\n",
    "\n",
    "cna = cna.drop(columns=['location_with_brac','gpe_with_brac','person_with_brac', 'Unnamed: 0'],axis = 1)\n",
    "\n",
    "cna.head()"
   ]
  },
  {
   "cell_type": "markdown",
   "id": "c303f406",
   "metadata": {},
   "source": [
    "spacy NER extraction"
   ]
  },
  {
   "cell_type": "code",
   "execution_count": null,
   "id": "e561a8d4",
   "metadata": {},
   "outputs": [],
   "source": [
    "cont = cna['cleaned_content'].apply(nlp)\n",
    "\n",
    "cna_list = spacy_ner(cont)\n",
    "\n",
    "print(cna_list)"
   ]
  },
  {
   "cell_type": "code",
   "execution_count": null,
   "id": "1a96a032",
   "metadata": {},
   "outputs": [],
   "source": [
    "sort = spacy_sorting(cna_list)\n",
    "\n",
    "print(sort[0])\n",
    "print()\n",
    "\n",
    "print(sort[1])\n",
    "print()\n",
    "\n",
    "print(sort[2])"
   ]
  },
  {
   "cell_type": "code",
   "execution_count": null,
   "id": "f65c079e",
   "metadata": {},
   "outputs": [],
   "source": [
    "cna['org_with_brac'] = sort[0]\n",
    "cna['gpe_with_brac'] = sort[1]\n",
    "cna['person_with_brac'] = sort[2]\n",
    "\n",
    "cna['spacy_org']=cna['org_with_brac'].apply(lambda x: ','.join(map(str, x)))\n",
    "cna['spacy_gpe'] = cna['gpe_with_brac'].apply(lambda x: ', '.join(map(str, x)))\n",
    "cna['spacy_person'] = cna['person_with_brac'].apply(lambda x: ', '.join(map(str, x)))\n",
    "\n",
    "cna = cna.drop(columns=['org_with_brac','gpe_with_brac','person_with_brac'],axis = 1)\n",
    "\n",
    "cna.head()"
   ]
  },
  {
   "cell_type": "code",
   "execution_count": null,
   "id": "8e6ed067",
   "metadata": {},
   "outputs": [],
   "source": [
    "cna.to_csv('cna_cleaned_with_NER.csv')"
   ]
  },
  {
   "cell_type": "code",
   "execution_count": null,
   "id": "16aad3b5",
   "metadata": {},
   "outputs": [],
   "source": []
  }
 ],
 "metadata": {
  "kernelspec": {
   "display_name": "Python 3",
   "language": "python",
   "name": "python3"
  },
  "language_info": {
   "codemirror_mode": {
    "name": "ipython",
    "version": 3
   },
   "file_extension": ".py",
   "mimetype": "text/x-python",
   "name": "python",
   "nbconvert_exporter": "python",
   "pygments_lexer": "ipython3",
   "version": "3.8.8"
  }
 },
 "nbformat": 4,
 "nbformat_minor": 5
}
