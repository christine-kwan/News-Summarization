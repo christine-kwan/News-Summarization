{
 "cells": [
  {
   "cell_type": "code",
   "execution_count": 1,
   "id": "bee5a4ee",
   "metadata": {},
   "outputs": [],
   "source": [
    "# !pip install beautifulsoup4\n",
    "# !pip install requests\n",
    "# !pip install newspaper3k"
   ]
  },
  {
   "attachments": {},
   "cell_type": "markdown",
   "id": "adff8a26",
   "metadata": {},
   "source": [
    "This notebook scrapes for sports articles from https://www.channelnewsasia.com/sport, which is the sports category in CNA."
   ]
  },
  {
   "cell_type": "code",
   "execution_count": 2,
   "id": "454ac626",
   "metadata": {},
   "outputs": [],
   "source": [
    "import requests\n",
    "from bs4 import BeautifulSoup"
   ]
  },
  {
   "cell_type": "code",
   "execution_count": 3,
   "id": "ae8d219d",
   "metadata": {},
   "outputs": [],
   "source": [
    "# cna_r = requests.get('https://www.channelnewsasia.com/latest-news')\n",
    "cna_r = requests.get(\"https://www.channelnewsasia.com/sport\")\n",
    "coverpage = cna_r.content\n",
    "# coverpage\n"
   ]
  },
  {
   "cell_type": "code",
   "execution_count": 4,
   "id": "878ac256",
   "metadata": {},
   "outputs": [],
   "source": [
    "soup1 = BeautifulSoup(coverpage, 'html.parser')"
   ]
  },
  {
   "cell_type": "code",
   "execution_count": 5,
   "id": "fff7a069",
   "metadata": {},
   "outputs": [
    {
     "data": {
      "text/plain": [
       "'#main-content'"
      ]
     },
     "execution_count": 5,
     "metadata": {},
     "output_type": "execute_result"
    }
   ],
   "source": [
    "# cna_r = soup1.find_all('a', class_=\"h6__link list-object__heading-link\", href=True)\n",
    "cna_r = soup1.find_all('a', href=True)\n",
    "(cna_r[0]['href'])"
   ]
  },
  {
   "cell_type": "code",
   "execution_count": 6,
   "id": "d8de4829",
   "metadata": {},
   "outputs": [],
   "source": [
    "links = []\n",
    "\n",
    "for i in range(len(cna_r)):\n",
    "    cur_link = cna_r[i]['href']\n",
    "    if cur_link[0:7] == \"/sport/\":\n",
    "        links.append(cur_link)\n",
    "\n",
    "# links"
   ]
  },
  {
   "cell_type": "code",
   "execution_count": 7,
   "id": "63c13f5d",
   "metadata": {},
   "outputs": [],
   "source": [
    "domain = 'https://www.channelnewsasia.com' #domain + link = url to article\n",
    "url_list = []\n",
    "content_list = []\n",
    "\n",
    "news_texts = {} #stores article content in {link : content} format\n",
    "\n",
    "bad_links = [] #links which could not have their content scraped"
   ]
  },
  {
   "cell_type": "code",
   "execution_count": 8,
   "id": "1359ca83",
   "metadata": {},
   "outputs": [],
   "source": [
    "from newspaper import Article\n",
    "\n",
    "for l in links:\n",
    "    try:\n",
    "        url = domain + l\n",
    "        article = Article(url)\n",
    "        article.download()\n",
    "        article.parse()\n",
    "        news_texts[url] = [article.text]\n",
    "        url_list.append(url)\n",
    "        content_list.append(article.text)\n",
    "    except:\n",
    "        bad_links.append(url)"
   ]
  },
  {
   "cell_type": "code",
   "execution_count": 9,
   "id": "6fab708e",
   "metadata": {},
   "outputs": [],
   "source": [
    "# news_texts"
   ]
  },
  {
   "cell_type": "code",
   "execution_count": 10,
   "id": "762d8db4",
   "metadata": {},
   "outputs": [
    {
     "data": {
      "text/plain": [
       "19"
      ]
     },
     "execution_count": 10,
     "metadata": {},
     "output_type": "execute_result"
    }
   ],
   "source": [
    "len(news_texts)"
   ]
  },
  {
   "cell_type": "code",
   "execution_count": 11,
   "id": "7915f082",
   "metadata": {},
   "outputs": [],
   "source": [
    "# write data to csv\n",
    "import pandas as pd\n",
    "\n",
    "df = pd.DataFrame(list(zip(url_list, content_list)), columns =['url', 'content'])\n",
    "df.drop_duplicates(inplace=True)\n",
    "\n",
    "# rename the file\n",
    "df.to_csv('cna_sports_3mar.csv')"
   ]
  }
 ],
 "metadata": {
  "kernelspec": {
   "display_name": "base",
   "language": "python",
   "name": "python3"
  },
  "language_info": {
   "codemirror_mode": {
    "name": "ipython",
    "version": 3
   },
   "file_extension": ".py",
   "mimetype": "text/x-python",
   "name": "python",
   "nbconvert_exporter": "python",
   "pygments_lexer": "ipython3",
   "version": "3.9.13"
  },
  "vscode": {
   "interpreter": {
    "hash": "f1743dd6e86e6d924867f0bc86ba4fb15235e1c840bf26466f93065a93459926"
   }
  }
 },
 "nbformat": 4,
 "nbformat_minor": 5
}
