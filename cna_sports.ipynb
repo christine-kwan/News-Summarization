{
 "cells": [
  {
   "cell_type": "code",
   "execution_count": 2,
   "id": "bee5a4ee",
   "metadata": {},
   "outputs": [],
   "source": [
    "# !pip install beautifulsoup4\n",
    "# !pip install requests"
   ]
  },
  {
   "attachments": {},
   "cell_type": "markdown",
   "id": "adff8a26",
   "metadata": {},
   "source": [
    "This notebook scrapes for sports articles from https://www.channelnewsasia.com/sport, which is the sports category in CNA."
   ]
  },
  {
   "cell_type": "code",
   "execution_count": 3,
   "id": "454ac626",
   "metadata": {},
   "outputs": [],
   "source": [
    "import requests\n",
    "from bs4 import BeautifulSoup"
   ]
  },
  {
   "cell_type": "code",
   "execution_count": 4,
   "id": "ae8d219d",
   "metadata": {},
   "outputs": [],
   "source": [
    "# cna_r = requests.get('https://www.channelnewsasia.com/latest-news')\n",
    "cna_r = requests.get(\"https://www.channelnewsasia.com/sport\")\n",
    "coverpage = cna_r.content\n",
    "# coverpage\n"
   ]
  },
  {
   "cell_type": "code",
   "execution_count": 5,
   "id": "878ac256",
   "metadata": {},
   "outputs": [],
   "source": [
    "soup1 = BeautifulSoup(coverpage, 'html.parser')"
   ]
  },
  {
   "cell_type": "code",
   "execution_count": 6,
   "id": "fff7a069",
   "metadata": {},
   "outputs": [
    {
     "data": {
      "text/plain": [
       "'#main-content'"
      ]
     },
     "execution_count": 6,
     "metadata": {},
     "output_type": "execute_result"
    }
   ],
   "source": [
    "# cna_r = soup1.find_all('a', class_=\"h6__link list-object__heading-link\", href=True)\n",
    "cna_r = soup1.find_all('a', href=True)\n",
    "(cna_r[0]['href'])"
   ]
  },
  {
   "cell_type": "code",
   "execution_count": 7,
   "id": "d8de4829",
   "metadata": {},
   "outputs": [
    {
     "data": {
      "text/plain": [
       "['/sport/liverpool-must-plan-summer-signings-now-says-klopp-3304861',\n",
       " '/sport/liverpool-must-plan-summer-signings-now-says-klopp-3304861',\n",
       " '/sport/chelsea-manager-potter-says-his-family-has-received-death-threats-3304731',\n",
       " '/sport/chelsea-manager-potter-says-his-family-has-received-death-threats-3304731',\n",
       " '/sport/murray-saves-five-match-points-reach-doha-final-3304321',\n",
       " '/sport/conte-close-spurs-return-not-time-chelsea-stellini-3303881',\n",
       " '/sport/guardiola-defends-man-city-hotshot-haaland-3304041',\n",
       " '/sport/simeones-mentality-key-atletico-success-says-reals-ancelotti-3304376',\n",
       " '/sport/france-football-mutiny-three-stars-quit-national-womens-team-3304231',\n",
       " '/sport/russia-anti-doping-agency-backtracks-its-own-valieva-decision-cas-3304066',\n",
       " '/sport/uefa-opens-probe-after-sevilla-keeper-attacked-fan-pitch-3305111',\n",
       " '/sport/uefa-opens-probe-after-sevilla-keeper-attacked-fan-pitch-3305111',\n",
       " '/sport/englands-root-shrugs-identity-crisis-unbeaten-ton-against-new-zealand-3305071',\n",
       " '/sport/englands-root-shrugs-identity-crisis-unbeaten-ton-against-new-zealand-3305071',\n",
       " '/sport/barcelona-forward-fati-injured-training-3305076',\n",
       " '/sport/barcelona-forward-fati-injured-training-3305076',\n",
       " '/sport/australias-head-relishing-recall-after-being-dropped-first-test-3305056',\n",
       " '/sport/australias-head-relishing-recall-after-being-dropped-first-test-3305056',\n",
       " '/sport/prolific-al-duhail-blocking-al-hilals-route-asian-final-3305031',\n",
       " '/sport/prolific-al-duhail-blocking-al-hilals-route-asian-final-3305031',\n",
       " '/sport/diamond-foden-will-bounce-back-city-says-guardiola-3304936',\n",
       " '/sport/diamond-foden-will-bounce-back-city-says-guardiola-3304936',\n",
       " '/sport/rashford-embracing-change-mentality-breakout-season-united-3304906',\n",
       " '/sport/rashford-embracing-change-mentality-breakout-season-united-3304906',\n",
       " '/sport/root-shines-new-zealand-collapse-second-test-3304681',\n",
       " '/sport/root-shines-new-zealand-collapse-second-test-3304681',\n",
       " '/sport/super-solomon-strike-earns-fulham-draw-wolves-3304586',\n",
       " '/sport/super-solomon-strike-earns-fulham-draw-wolves-3304586',\n",
       " '/sport/edwards-barbarians-shirt-worn-score-try-fetches-record-287k-3304306',\n",
       " '/sport/edwards-barbarians-shirt-worn-score-try-fetches-record-287k-3304306',\n",
       " '/sport/mercedes-hit-hydraulics-problem-verstappen-impresses-3304176',\n",
       " '/sport/mercedes-hit-hydraulics-problem-verstappen-impresses-3304176',\n",
       " '/sport/former-real-madrid-defender-marcelo-makes-fluminense-return-3304006',\n",
       " '/sport/former-real-madrid-defender-marcelo-makes-fluminense-return-3304006']"
      ]
     },
     "execution_count": 7,
     "metadata": {},
     "output_type": "execute_result"
    }
   ],
   "source": [
    "links = []\n",
    "\n",
    "for i in range(len(cna_r)):\n",
    "    cur_link = cna_r[i]['href']\n",
    "    if cur_link[0:7] == \"/sport/\":\n",
    "        links.append(cur_link)\n",
    "\n",
    "links"
   ]
  },
  {
   "cell_type": "code",
   "execution_count": 8,
   "id": "63c13f5d",
   "metadata": {},
   "outputs": [],
   "source": [
    "domain = 'https://www.channelnewsasia.com/' #domain + link = url to article\n",
    "\n",
    "news_texts = {} #stores article content in {link : content} format\n",
    "\n",
    "bad_links = [] #links which could not have their content scraped"
   ]
  },
  {
   "cell_type": "code",
   "execution_count": 9,
   "id": "1359ca83",
   "metadata": {},
   "outputs": [],
   "source": [
    "from newspaper import Article\n",
    "\n",
    "for l in links:\n",
    "    try:\n",
    "        url = domain + l\n",
    "        article = Article(url)\n",
    "        article.download()\n",
    "        article.parse()\n",
    "        news_texts[url] = article.text\n",
    "    except:\n",
    "        bad_links.append(url)"
   ]
  },
  {
   "cell_type": "code",
   "execution_count": 10,
   "id": "6fab708e",
   "metadata": {},
   "outputs": [
    {
     "data": {
      "text/plain": [
       "{'https://www.channelnewsasia.com//sport/liverpool-must-plan-summer-signings-now-says-klopp-3304861': 'Liverpool have to start working on their player recruitment plans for the summer transfer window regardless of their Champions League status next season, manager Juergen Klopp said, highlighting the spending power of other Premier League clubs.\\n\\nLiverpool lost 5-2 to Real Madrid in the first leg of their Champions League last 16 clash and they are eighth in the league, seven points adrift of the fourth spot which secures Champions League qualification, albeit with two games in hand.\\n\\n\"I\\'m sorry that I cannot guarantee Champions League at this moment but we fight for it and it is not done yet,\" Klopp told reporters.\\n\\n\"But it is tricky and it will be a late decision. We have to start work earlier before we know where we will end up position-wise and European competition-wise. These things are clear.\"\\n\\nLiverpool are six-times Champions League winners, last lifting the trophy in 2018-19.\\n\\n\"I think we played five years in a row in the Champions League, which is massive money, and went to the final three times in that time, which is also massive from a money point of view,\" added Klopp, whose team play at Crystal Palace later on Saturday.\\n\\n\"We built a stand, we built a training ground, and the club is in a really good place, but around us obviously a few people (clubs) are speeding up a little bit and you cannot ignore that. We cannot ignore these kind of things.\"\\n\\nLiverpool\\'s American owner John Henry has said there are no plans to sell the club but they are open to investment, even as Manchester United explore a sale while Chelsea and Newcastle United are already under wealthy ownerships.',\n",
       " 'https://www.channelnewsasia.com//sport/chelsea-manager-potter-says-his-family-has-received-death-threats-3304731': 'LONDON : Chelsea manager Graham Potter and his family have received anonymous death threats following the Premier League club\\'s poor run of results, he told reporters on Friday.\\n\\nChelsea are 10th in the table with two wins in their last 14 games and have only scored once at home this year.\\n\\n\"As much as I\\'ve had support, I\\'ve had some not very nice emails that have come through that want me to die and want my kids to die, so obviously that\\'s not pleasant to receive,\" said the 47-year-old former Brighton & Hove Albion boss.\\n\\n\"The challenge for me is, \\'OK, how do I conduct myself?\\' That\\'s what I always turn round to. The higher you go, the more pressure you have on how you are as a person.\"\\n\\nSince Potter took the job in September after the sacking of Thomas Tuchel, Chelsea have won nine of their 25 games.\\n\\n\"I want to succeed here. There is this nonsense that I don\\'t care. Where does that come from? Where\\'s your evidence on that?,\" he added, ahead of Sunday\\'s trip to Tottenham Hotspur.\\n\\n\"If you go to work and somebody\\'s swearing abuse at you, it\\'s not going to be pleasant.\\n\\n\"You can answer it two ways. I could say I don\\'t care, but you know I\\'m lying. Everyone cares what people think, because we\\'re hardwired to be socially connected.\"\\n\\nPotter said life had been difficult over the past few months as he tried to fashion a winning team, with Chelsea 11 points adrift of fourth-placed Spurs albeit with a game in hand.\\n\\n\"Ask my family how life has been for me and for them. It\\'s been not pleasant at all,\" he added.\\n\\n\"I understand supporters go home and they\\'re annoyed because the team aren\\'t winning but, I assure you, my life for the last three, four months has been fairly average, apart from the fact I\\'m really grateful for this experience.\"\\n\\nRegarding the death threats towards his family, Potter said a line had been crossed.\\n\\n\"You just have to put it aside, and thankfully it\\'s an isolated incident and it could come from anywhere. It\\'s just one of those things,\" Potter told Sky Sports.\\n\\nAsked if it had rocked him, he said: \"Not really. It\\'s just a throwaway line, I think. I don\\'t give it any more weight than that.\\n\\n\"It\\'s not pleasant and it\\'s not pleasant for the family. You accept the criticism, you accept to be booed if you lose a game, you accept whatever comes your way absolutely.\\n\\n\"Of course there\\'s a line but I wouldn\\'t be the first person in life where the line\\'s been crossed and maybe in this instance it has been crossed.\"',\n",
       " 'https://www.channelnewsasia.com//sport/murray-saves-five-match-points-reach-doha-final-3304321': 'Three-time Grand Slam champion Andy Murray said the \\'Law of Averages\\' had finally swung in his favour after he saved five match points to defeat Jiri Lehecka at the Qatar Open on Friday (Feb 24) and reach a first ATP Tour final since June last year.\\n\\nMurray beat his Czech opponent 6-0 3-6 7-6(6), fighting back from 5-3 down in the decider.\\n\\nThe 35-year-old Briton has shown great resilience during his run to the final in Doha and his latest victory was his fourth three-set win in four games, which included comeback wins over Lorenzo Sonego and Alexandre Muller.\\n\\nAsked how he managed to close out the narrow victories, Murray pointed to learning from defeats last season, telling reporters: \"One of the great things about the scoring system in this sport is things can change very quickly.\\n\\n\"I had multiple conversations with my team in the middle to the end part of last year, and I lost lots of close matches.\\n\\n\"I said, \\'As soon as I start winning some, then that\\'s going to change quickly because of the law of averages, really, like I couldn\\'t keep losing that many matches\\'.\\n\\n\"If I kept working hard and kept improving just a little bit, then those matches would change. So I\\'m glad that I was right with that, and I hope it continues.\"\\n\\nThe former world number one added that navigating a way out of so many tricky situations in a short timespan had bolstered his self-belief.\\n\\n\"There is a certain calmness to those situations, because you have been in them a lot in a short period of time. You know how you need to try and play and it becomes a little bit of a habit,\" Murray said.\\n\\n\"Maybe it\\'s a little bit in the back of the opponent\\'s mind, as well. There have been periods where someone like Novak (Djokovic) has come back from very difficult situations, and it has appeared that players think about it a little when they are getting close to the finish line.\\n\\n\"That\\'s something that I\\'m feeling a bit just now, and obviously I will try to keep that going.\"\\n\\nWild card Murray will face either Canada\\'s second-seeded Felix Auger-Aliassime or Russian third seed Daniil Medvedev in the final.',\n",
       " 'https://www.channelnewsasia.com//sport/conte-close-spurs-return-not-time-chelsea-stellini-3303881': 'LONDON: Tottenham assistant manager Cristian Stellini said on Friday (Feb 24) that boss Antonio Conte is \"very close\" to fully returning to work, but is not expected to be at this weekend\\'s match against his former club Chelsea.\\n\\nConte is recovering from gallbladder surgery in Italy after doctors told him to rest again and is unlikely to be present for Sunday\\'s game.\\n\\nThe 53-year-old returned to oversee Tottenham\\'s defeats at Leicester and AC Milan before deciding he had come back to the bench too soon.\\n\\nStellini led the team for last week\\'s win over West Ham and has been in regular contact with Conte.\\n\\n\"I don\\'t think so (for Chelsea),\" Stellini told reporters when questioned about the manager\\'s return.\\n\\n\"It is not the moment, but he is very close because I feel also his energy. We have a call three times a day, also in the evenings, so absolutely I feel Antonio like he is here.\\n\\n\"We speak a lot and, if we compare when Antonio had the surgery three weeks ago to now, it is completely different.\\n\\n\"He is completely involved. We transfer to him our feeling, this sensation we have on the players.\"\\n\\nTottenham lost all four meetings with Chelsea last season, including a two-legged League Cup semi-final.\\n\\nBut they could move 14 points ahead of their struggling London rivals with victory at home.\\n\\n\"We are happy because if we compare our team to last January, now we are better, but we have to continue to work and improve,\" said Stellini.\\n\\n\"Last season we struggle too much against Chelsea and we hope this season that can change.\"\\n\\nStellini has now won three games while deputising for Conte, after achieving the same number of victories when he stood in for his boss at Inter Milan.\\n\\nThe former manager of Italian side Alessandria said: \"I enjoy a lot to be a coach in charge, but when you take a decision you have to do your best.\\n\\n\"Sometimes I think about being a coach, like a dream. But I\\'m an assistant and that\\'s the reality. I enjoy being an assistant. I feel I\\'m good in this job enough to continue.\"',\n",
       " 'https://www.channelnewsasia.com//sport/guardiola-defends-man-city-hotshot-haaland-3304041': 'LONDON: Pep Guardiola insists Erling Haaland is not to blame for his lack of involvement in Manchester City\\'s attack because the whole team should take responsibility when they fail to click.\\n\\nHaaland has scored a remarkable 32 goals so far in his first season with City, but the Norway striker still divides opinions as the Premier League champions lack their previous fluency with him in the side.\\n\\nThe 22-year-old failed to net in disappointing draws against Nottingham Forest and Leipzig over the past week.\\n\\nHowever, City boss Guardiola rubbished suggestions that Haaland\\'s low number of touches per match was having an impact on his overall contribution.\\n\\n\"It is our fault, not Erling\\'s. Erling has been impressive all season,\" Guardiola said Friday on the eve of City\\'s Premier League clash against Bournemouth.\\n\\n\"It\\'s not metrics, I don\\'t need metrics to know. When I finish the game, one second later I know if he has been involved or not and who should be more involved or not.\"\\n\\nGuardiola, whose side are two points behind Premier League leaders Arsenal, admitted his team have to improve to help Haaland\\'s development at City.\\n\\n\"Striker is the most difficult position in the world because they have two players focused on him and Erling has more,\" he added. \"It\\'s not easy to do that.\\n\\n\"I would like to see in my career here our other strikers like Sergio (Aguero) or Gabriel (Jesus) when they player proper striker not false nine how many times did they touch the ball.\\n\\n\"It\\'s not about have the ball, striker. Our process is more. It\\'s fine. I am frustrated too. You are frustrated too in your life sometimes isn\\'t it? Happiness is overestimated.\"\\n\\nCity midfielder Kevin De Bruyne is a doubt for the Bournemouth clash on Saturday after missing the Champions League draw at Leipzig on Wednesday due to illness.\\n\\nGuardiola said his players, in the middle of a run of five away games, were feeling the strain.\\n\\n\"Now it is a question to consider because our fatigue is there, definitely, but we have to take energy from I don\\'t know where, but we have to do it,\" he said.',\n",
       " 'https://www.channelnewsasia.com//sport/simeones-mentality-key-atletico-success-says-reals-ancelotti-3304376': 'MADRID: Atletico Madrid coach Diego Simeone\\'s mentality has been the key to his team\\'s success in recent years, said his Real Madrid counterpart Carlo Ancelotti, who he faces in LaLiga on Saturday.\\n\\nSimeone is the most successful coach in Atletico\\'s history, winning eight trophies since his arrival in 2011, and will reach a record 612 games in charge of the club on Saturday.\\n\\nAtletico, fourth in LaLiga on 41 points, will look to close the 10-point gap to second-placed Real at the Bernabeu.\\n\\nAncelotti, who has won nine titles in two spells as Real Madrid manager, admitted he would like to spend time with Atletico\\'s Argentine coach and share their knowledge.\\n\\n\"I like him as a person, he is very honest in his game evaluation,\" the Italian told reporters on Friday.\\n\\n\"He has been very successful with Atletico, a lot of the success of his team has been thanks to a coach who has been able to bring in a very recognisable mentality and identity.\\n\\n\"I would like to spend time with him because we love football. I think he has nothing to learn from me. I would like to see how he prepares for tomorrow\\'s game. We can share this after the game.\"\\n\\nEarlier on Friday, Simeone thanked the players he has managed at Atletico saying they are the reason he can achieve his historic numbers and results.\\n\\n\"I am fortunate, I have to be grateful to the club and to all those who have played for the team,\" Simeone told a news conference.\\n\\n\"The numbers go hand in hand with the results. I\\'m in the place I want to be and I still have a lot of hope.\"\\n\\nSince the World Cup break Simeone has led his team to eight wins in 12 games and a run of six unbeaten LaLiga matches.\\n\\nDespite Atletico being far from contention for the league title, with Barcelona 18 points ahead of them, the 52-year-old said his team\\'s enthusiasm and motivation will not wane.\\n\\n\"You have to compete every game. There are seasons where we can compete to win something and others where it seems a long way off,\" Simeone said.\\n\\n\"As a club fighting in a competition is very good for us to continue to grow. Every game that we put on the red and white (jersey) we have to be excited.\"',\n",
       " 'https://www.channelnewsasia.com//sport/france-football-mutiny-three-stars-quit-national-womens-team-3304231': 'PARIS: The French women\\'s football team was reeling Friday (Feb 24) as three of its top stars decided to quit with iconic captain Wendie Renard claiming the current set-up was detrimental to her mental health.\\n\\nWithin an hour of the 32-year-old Lyon centre-back\\'s announcement, Paris Saint-Germain pair Kadidiatou Diani and Marie-Antoinette Katoto also announced they no longer wished to play for France.\\n\\n\"It\\'s sad but it\\'s the only way to protect my mental health,\" said the 142-times capped Renard, five months ahead of the World Cup in New Zealand and Australia.\\n\\n\"I won\\'t be going to the World Cup under these conditions. My face may mask the pain but my heart is suffering.\"\\n\\nStar striker Diani, 27, who leads the scoring charts in the French league, said she was also severing her links with the national team.\\n\\n\"Following our captain\\'s announcement, I\\'m suspending my engagement with the national team. If profound changes are introduced I\\'ll be back,\" said Diani.\\n\\nKatoto, 23, was equally blunt.\\n\\n\"I am no longer in line with the management of the France team nor the values it promotes,\" she said.\\n\\nThe French federation said it would study the matter next week.\\n\\n\"No individual is above the institution which is the French team,\" the FFF said in a statement.\\n\\n\"We acknowledge their decision and our executive commission will study the matter on Feb 28.\"\\n\\nFrance is coached by 47-year-old Corinne Diacre who took over the team in 2017 and is under contract until 2024.\\n\\nAlthough Diacre and the FFF were not blamed directly by the players for their decisions to quit, the coach is known for an abrasive style and has sidelined stars in the past.\\n\\nRenard herself was stripped of the French captaincy when Diacre was appointed, only getting the armband back four years later.\\n\\nDiacre\\'s decision to recall Kheira Hamraoui, who has a cool relationship with Katoto and Diani, is unlikely to have helped ease the crisis.\\n\\nHamraoui was the victim of an orchestrated and brutal attack in November 2021.\\n\\nFellow French international Aminata Diallo was charged with aggravated violence and criminal association for her role in the ambush on Hamraoui.\\n\\nDiallo, who has denied any involvement, spent five days in jail after her indictment and has been under judicial supervision since her release in September. In January she was permitted to sign for Spanish side Levante.\\n\\nFrance have yet to win a major international tournament and have recently lost to both Germany and Sweden.\\n\\nFrench football has been plagued by controversy recently with Noel Le Graet, the president of the country\\'s football federation (FFF) suspended since January.\\n\\nThe 81-year-old has been under pressure since he made dismissive remarks in a radio interview about France legend Zinedine Zidane\\'s potential interest in coaching the national team.\\n\\nA report commissioned by the sports ministry also focused on allegations of \"inappropriate behaviour\" towards women.',\n",
       " 'https://www.channelnewsasia.com//sport/russia-anti-doping-agency-backtracks-its-own-valieva-decision-cas-3304066': 'PARIS: Russia\\'s anti-doping agency (RUSADA) has gone back on its decision to exonerate ice-skater Kamila Valieva for a doping violation by appealing against its own ruling, the Court of Arbitration for Sport announced on Friday (Feb 24).\\n\\nRUSADA found in January that although the athlete, who was only 15 at the time, had committed an anti-doping rule violation (ADRV), she had committed \"no fault or negligence\".\\n\\nThe only sanction imposed was the cancellation of Valieva\\'s results on the date the sample was taken -- Dec 25, 2021.\\n\\nCAS revealed, however, that RUSADA as well as the World Anti-Doping Agency (WADA) and the International Skating Union (ISU) had appealed against that decision.\\n\\n\"RUSADA seeks a ruling from CAS setting aside the challenged decision and finding the athlete to have committed an ADRV ... and sanctioned with \\'the appropriate consequences\\' (which may include or be limited to a reprimand),\" said CAS in a statement.\\n\\nWADA said earlier this week that it was \"concerned\" when Valieva, now 16, was cleared in January.\\n\\nThe body has appealed the decision and called on CAS to impose a a four-year suspension while the ISU also appealed, asking the court to sanction her \"with a period of ineligibility, to be determined at the discretion of CAS\".\\n\\nISU also said that CAS should determine the final result of the team event at the Winter Olympics in Beijing last February.\\n\\nValieva became the first female skater to land a quadruple jump in Olympic competition, helping the Russian team secure gold in the team event.\\n\\nIt later emerged the 2022 European champion had tested positive before the Games for trimetazidine, a drug used to treat angina but which is banned for athletes because it can boost endurance.\\n\\nThe urine sample was taken from Valieva at the 2021 Russian National Figure Skating Championships.\\n\\nThe International Olympic Committee (IOC) allowed her to compete in the individual final in Beijing citing her young age but her tearful meltdown on the ice became the biggest story of the Games.',\n",
       " 'https://www.channelnewsasia.com//sport/uefa-opens-probe-after-sevilla-keeper-attacked-fan-pitch-3305111': 'European soccer\\'s governing body UEFA has opened an investigation after Sevilla goalkeeper Marko Dmitrovic was attacked by a fan on the pitch in Thursday\\'s Europa League match at PSV Eindhoven, The Athletic sports website reported.\\n\\nThe match was halted in the closing stages after a supporter ran onto the pitch and assaulted Dmitrovic, punching him in the face before being wrestled to the ground by the Serbian.\\n\\nPlayers and staff from both teams gathered around Dmitrovic and the pitch invader before stewards intervened and took the invader off the field.\\n\\nSevilla lost the knockout stage playoff 2-0 but still advanced to the next round with an aggregate score of 3-2.\\n\\nUEFA did not release a statement but The Athletic said the governing body confirmed to the website on Friday that a case had been opened following the incident.\\n\\nReuters has asked UEFA for comment.\\n\\nDmitrovic, who had a red bruise on his neck after the incident, urged UEFA to intervene.\\n\\n\"I have never seen anything like it,\" Dmitrovic told Movistar Plus after the game. \"I\\'ll keep my mouth shut so I don\\'t say what I would really like to do in that moment.\\n\\n\"He wanted to hurt me, it\\'s a shame that something like this happens in football field. UEFA must intervene.\"',\n",
       " 'https://www.channelnewsasia.com//sport/englands-root-shrugs-identity-crisis-unbeaten-ton-against-new-zealand-3305071': 'Only days after admitting to something of an identity crisis in Ben Stokes\\' England setup, former captain Joe Root can now rest easy after a brilliant, unbeaten century in the second test against New Zealand.\\n\\nHaving shared in a 302-run stand with fellow Yorkshireman Harry Brook, Root went on with the job after the dynamic rookie was dismissed for 186 early on day two at the Basin Reserve in Wellington.\\n\\nRoot was 153 not out when Stokes declared England\\'s first innings closed at an imposing 435 for eight.\\n\\nEngland have won 10 of their past 11 tests since Stokes replaced Root as captain and are on target for another victory after New Zealand collapsed to be 138 for seven, with rain halting play early on day two.\\n\\nRoot helped kick off England\\'s sparkling run under Stokes by scoring a mountain of runs against New Zealand and India in the home summer.\\n\\nHowever, he feared he was not pulling his weight after a relatively lean run against South Africa and away to Pakistan.\\n\\n\"I’ve just got to find out what sits best for me and it’s going to take some time,\" Root said after scoring 14 and 57 in the first test win over New Zealand at Mount Maunganui.\\n\\n\"If I’m being brutally honest, there was the initial relief of coming out of the captaincy and now I’m just trying to find out what my role is within this team.\"\\n\\nIt was a surprising comment coming from one of England\\'s greatest batsmen after his 128th test.\\n\\nYet, such are the standards of the 32-year-old Yorkshireman, invariably his own harshest critic.\\n\\nEngland\\'s attacking \\'Bazball\\' revolution under Stokes and head coach Brendon \\'Baz\\' McCullum has been a game-changer for both the team and the format.\\n\\nRoot may have wondered how he fit in the new paradigm.\\n\\nWhile by no means a plodding batsman, he is unlikely to ever be described \\'swashbuckling\\' like some of his harder hitting team mates.\\n\\nSuch concerns may no longer bother him, though, after his majestic 224-ball knock featuring 10 fours and three sixes at the Basin Reserve on Saturday.\\n\\n\"I might not have explained it exactly as I\\'d like to the other day,\" he told reporters.\\n\\n\"I kind of know I have a very good understanding of what my role is.\\n\\n\"But I felt like in that situation (today), I found a very good tempo to manage those conditions.\"\\n\\nRoot was dismissed in the first test with a botched reverse ramp, a shot that seemed out of character.\\n\\nYet in Wellington he has used it to great effect, hitting a six off Tim Southee early in the morning and then another four off the paceman-captain to push England past 400.\\n\\nRoot paid credit to the red-hot Brook for making his life easier by putting pressure on the bowlers with an incredible strike-rate.\\n\\n\"He\\'s almost playing on a different planet,\" he said.\\n\\n\"I felt like I had the best seat in the house yesterday.\"',\n",
       " 'https://www.channelnewsasia.com//sport/barcelona-forward-fati-injured-training-3305076': 'Barcelona forward Ansu Fati will be out of action after suffering an injury in training on Friday, the LaLiga club said without mentioning a timescale for his return.\\n\\nThe 20-year-old came off the bench in the 75th minute of Thursday\\'s 2-1 Europa League playoff second leg defeat to Manchester United as Barcelona were knocked out of the second-tier European competition.\\n\\n\"Ansu Fati suffered a left knee contusion during this afternoon\\'s training session. He is out and his recovery will determine his availability,\" Barcelona said on Twitter on Friday.\\n\\nBarcelona are top of the LaLiga standings with an eight-point lead over rivals Real Madrid who are second. The Catalan club play away to Almeria on Sunday.',\n",
       " 'https://www.channelnewsasia.com//sport/australias-head-relishing-recall-after-being-dropped-first-test-3305056': 'BENGALURU : Australian middle-order batsman Travis Head said being dropped for the opening test in India came as a surprise after \"robust\" conversations with the selectors, and he was ready to play anywhere in the line-up after being recalled.\\n\\nThe 29-year-old aggressive left-hander was left out of the team for the first test of the four-match series in Nagpur after struggling against spin on the tours of Pakistan and Sri Lanka.\\n\\nBut the move came under fire from former players including Steve Waugh and Matthew Hayden.\\n\\n\"It was something that I didn\\'t expect coming here,\" Head told reporters in New Delhi. \"The conversations were robust. Everyone has different opinions. I respect the coaching staff and selectors and I have a strong relationship with them.\\n\\n\"I think that\\'s what made the conversations the way they went, because there\\'s respect that goes both ways and we were able to voice our opinions.\\n\\n\"I woke up the next morning and I\\'m still on tour playing for Australia, I still get to do what I love to do. I\\'d love to be competing and playing but there\\'s another way I can support the guys... I still feel like I\\'m in a great space.\"\\n\\nHead, who scored three half-centuries in Australia\\'s recent home series against South Africa and also impressed against the West Indies, was recalled for the second test in the Indian capital.\\n\\nAustralia went on to lose by six wickets to go 2-0 down in the series but Head scored 12 before top-scoring for his team with 43 in the second innings after being promoted to open the batting with David Warner substituted after suffering a concussion.\\n\\n\"It was a small sample piece, but over here small sample pieces can be a little bit of gold to hopefully push on for the next two tests,\" Head said.\\n\\n\"After missing out in the first Test, I\\'d bat anywhere that the team needed me to get a game.\"\\n\\nThe third test begins in Indore on March 1, with the final match in Ahmedabad. The two teams then face off in three one-day internationals beginning March 17.',\n",
       " 'https://www.channelnewsasia.com//sport/prolific-al-duhail-blocking-al-hilals-route-asian-final-3305031': 'Saudi Arabia\\'s Al Hilal go into their sixth Asian Champions League semi-final in nine years on Sunday looking to find a way to silence Al Duhail\\'s prolific strike force and keep alive their hopes of a record-extending fifth continental title.\\n\\nThe defending champions squeezed past Iran\\'s Foolad on Thursday to set up the meeting with the Qatari club in Doha, with the winners due to take on Japan\\'s Urawa Red Diamonds over two legs in the final on April 29 and May 6.\\n\\nAl Hilal have won in four of their last five semi-final appearances and defeated Urawa when they last met in the final in 2019, avenging a loss in 2017 to claim a record fourth success in Asia\\'s premier club competition.\\n\\nBut to renew that rivalry Ramon Diaz\\'s side will need to overcome an Al Duhail side boasting the attacking prowess of prolific forward Michael Olunga and winger Edmilson Junior.\\n\\nOlunga, the tournament\\'s top scorer in 2021, netted both goals in the 2-1 quarter-final win over Al Shabab from Saudi Arabia to take his tally to six in this year\\'s competition.\\n\\nEdmilson has been even more impressive in front of goal, registering eight times in the current campaign to lead the scoring charts, although there are doubts over the Belgian\\'s availability after he sustained an injury in the quarterfinals.\\n\\n\"We have achieved something historical,\" said coach Hernan Crespo. \"We have never been in the semi-finals before and I am proud to be part of this historic occasion.\"\\n\\nAl Hilal, though, have even greater achievements on their minds as they look to become the first side to win back-to-back Asian titles since compatriots Al Ittihad in 2005.\\n\\nDiaz\\'s side were boosted in the previous round by the return of captain Salman Al Faraj, who started for Al Hilal for the first time since sustaining an injury in Saudi Arabia\\'s famous 2-1 win over Argentina at the World Cup finals in Qatar.\\n\\nThe 33-year-old featured for the opening 76 minutes of the game against Foolad, although it was only after his departure that Al Hilal were able to find a way past the Iranians through Moussa Marega\\'s 87th minute winner.\\n\\n\"We know Duhail have good players, I know the coach personally as I coached him when he was a player,\" said Diaz.\\n\\n\"It is good to play against Duhail as both teams will have their fans behind them.\"',\n",
       " 'https://www.channelnewsasia.com//sport/diamond-foden-will-bounce-back-city-says-guardiola-3304936': 'MANCHESTER, England : Winger Phil Foden still has a role to play for Manchester City this season, manager Pep Guardiola said, adding that the 22-year-old is the team\\'s \"diamond\".\\n\\nFoden has struggled with an ankle injury he sustained while playing for England at the World Cup in Qatar and has had limited game time for City due to the form of fellow wingers Jack Grealish and Riyad Mahrez.\\n\\nGuardiola said Foden, who started three of their last 10 Premier League games, asked for time out to rest and recover from the injury.\\n\\n\"If you intend to say I don\\'t trust Phil, forget about it. Phil is our diamond,\" Guardiola told reporters on Friday. \"I want Phil to push them (Grealish and Mahrez) and of course, Phil can play in the middle, in a position more central.\\n\\n\"Always I say to him: \\'You are so young, next season is a new one\\'. If you drop a little bit this season compared to the previous one, it\\'s an absolutely normal process.\\n\\n\"How you handle it, is the question - if you handle it well. He is training like an animal, there\\'s no doubt about that, and he will be back.\"\\n\\nCity, second in the league standings behind Arsenal, play at Bournemouth on Saturday.',\n",
       " 'https://www.channelnewsasia.com//sport/rashford-embracing-change-mentality-breakout-season-united-3304906': 'A change in mentality has helped Manchester United forward Marcus Rashford find his best form this season, the 25-year-old said as he hopes to guide the team to their first trophy in nearly six years at the League Cup final on Sunday.\\n\\nUnited manager Erik ten Hag said Rashford is a doubt for Sunday\\'s League Cup final against Newcastle United, but the England international is hopeful to be cleared to play after limping off in United\\'s Europa League win against Barcelona.\\n\\nHaving overcome injury issues in previous campaigns, Rashford has been in red-hot form for United this season with 24 goals, his career-best. No player in Europe\\'s top-five leagues has more goals than him since the World Cup break.\\n\\n\"Football is probably 95 per cent your mentality,\" Rashford told British media. \"That gives you the baseline to perform. There are a lot of players that have ability – that\\'s why they play at the top level. But what sets them apart is the mentality.\\n\\n\"I\\'ve been on both sides of it. I understand the strength of it and the value. I\\'m concentrating a lot more on keeping myself in that headspace and it\\'s needed in order to win games and trophies.\"\\n\\nThe in-form forward, who has become popular for his trademark goal celebration where he points his finger to his head, said he has been working on improving his positioning on the pitch.\\n\\n\"I\\'m in the areas to score. It\\'s something I\\'ve been working on and in the last few years I feel like even the seasons where I\\'ve done all right I could have added another 10 or 15 (goals),\" he said.',\n",
       " 'https://www.channelnewsasia.com//sport/root-shines-new-zealand-collapse-second-test-3304681': ':An unbeaten Joe Root century and a bowling masterclass by James Anderson put England in complete control of the second test on Saturday, as New Zealand\\'s hopes of levelling the series plunged with shambolic batting on a rain-hit day two.\\n\\nNew Zealand were 138 for seven when showers fell midway through the last session at Basin Reserve and forced play to be halted for the day, still 297 runs short of England\\'s declared first innings total of 435 for eight.\\n\\nThough Harry Brook (186) was denied a double-century in a 302-run stand with Root, the former England skipper marched on to an unbeaten 153.\\n\\nBen Stokes\\' declaration paid immediate dividends as Anderson, the world\\'s top-ranked test bowler at the age of 40, scythed through New Zealand\\'s top order with three quick wickets.\\n\\nSpinner Jack Leach grabbed another three and Stuart Broad one victim, leaving wicketkeeper Tom Blundell (25 not out) and tail-ender captain Tim Southee (23 not out) with an improbable rescue mission.\\n\\n\"I just think it was a brilliant call, personally, from him,\" Root said of Stokes\\' declaration. \"We might not be sat here with them seven down tonight, so credit to him.\"\\n\\nThough New Zealand were thrashed by 267 runs in the series-opener in Mount Maunganui, they have plumbed new depths in the nation\\'s capital, leaving home fans in the sold-out crowds dismayed.\\n\\nTheir bowlers were humiliated by Brook and Root on day one, and their batsmen crumbled meekly on day two.\\n\\nFive of them fell due to poor shot selection, including Kane Williamson who was caught behind off Anderson for four with a loose shot.\\n\\nAnderson has now dismissed New Zealand\\'s top batsman nine times.\\n\\n\"It\\'s been disappointing,\" New Zealand batting coach Luke Ronchi told reporters.\\n\\n\"Because I think guys are sort of struggling with ... the trust element of things.\\n\\n\"But that\\'s the message that we\\'re going to keep giving them, is to trust their skills.\"\\n\\nONE-HANDED CATCHES\\n\\nOpener Tom Latham (35) and number five Henry Nicholls (30) made starts but both fell trying to reverse-sweep Leach.\\n\\nNumber six Daryl Mitchell was out for 13 off Leach\\'s last ball before tea.\\n\\nOllie Pope took a brilliant, one-handed catch at silly point to remove the all-rounder but Mitchell was culpable for hitting in the air off the face of the bat.\\n\\nIt was Pope\\'s second one-hander, having taken the first with his left after a sweeping Nicholls top-edged into his own elbow, with the ball pinging over his shoulder to the fielder.\\n\\nAll-rounder Michael Bracewell later spooned a catch straight back to Broad to be out for six.\\n\\nOnly opener Devon Conway (0) and number four Will Young (2) might feel at peace with their dismissals, both beaten by good balls from Anderson that caught thin edges on the way to wicketkeeper Ben Foakes.\\n\\nEngland\\'s batters also threw away wickets on day one but it was of no consequence due to Root and Brook\\'s contributions.\\n\\nThe tourists started the day at 315 for three, with the Yorkshire duo looking to carry on.\\n\\nRecalled New Zealand paceman Matt Henry ended their epic stand when Brook hit a return catch to the bowler but Stokes kept up the pressure with a quickfire 27 before he was caught slogging Neil Wagner to mid-off.\\n\\nEngland lost 3-27 in that phase, with Bracewell trapping both Foakes (0) and Stuart Broad (14) lbw.\\n\\nRoot stayed firm, though, as his batting partners dwindled, thrashing the New Zealand bowlers for 10 fours and three sixes in his 224-ball knock.\\n\\nHe flicked a Henry delivery over backward square for four to get past 150 and trigger Stokes\\' declaration.\\n\\nWith rain forecast on day three, the weather could yet thwart England\\'s hopes of sweeping New Zealand.\\n\\nHowever, a draw will be enough to complete their first series win in the nation since 2008.',\n",
       " 'https://www.channelnewsasia.com//sport/super-solomon-strike-earns-fulham-draw-wolves-3304586': 'LONDON :Substitute Manor Solomon\\'s stunning second-half strike earned Fulham a 1-1 draw at home to Wolverhampton Wanderers in a tight affair at Craven Cottage in the Premier League on Friday.\\n\\nWolves, who are edging away from the relegation zone, were much the better side in the first half and deservedly went in front after 23 minutes through Pablo Sarabia\\'s fine finish, the Spain international\\'s first goal in English football.\\n\\nSixth-placed Fulham rarely threatened without injured top scorer Aleksandar Mitrovic but Solomon stepped up with a superb leveller in the 64th minute, curling the ball into the net from distance and scoring for the third successive league match.\\n\\nSolomon became the first Israeli player to score in three consecutive Premier League appearances since Ronny Rosenthal for Liverpool in November 1992, with all three of the Fulham attacker\\'s goals coming from the bench.\\n\\nWolves threw striker Diego Costa on late in the game as they searched for a winner but had to settle for a draw that pulled them four points clear of the relegation zone, having played one more game than West Ham United in 18th.\\n\\n\"We came here to win the match,\" Wolves coach Julen Lopetegui told the BBC. \"We played a good match with big commitment and hard work.\\n\\n\"In the first half I think we overcame them. It was a pity with the problems we had in the second half and we had to change. After their goal it was a more balanced match.\"\\n\\nThe hosts missed the chance to move level on points with Newcastle United in fifth although their tally of 39 points from their first 25 games of the season is Fulham\\'s second-best return at this stage of a top-flight campaign.\\n\\n\"Many things were different in the second half, the dynamic of the team and the way we pressed the ball,\" Fulham coach Marco Silva told Sky Sports. \"We didn\\'t do that well enough from the start.\\n\\n\"...we were much more dynamic on the ball after halftime and that gave (Andreas) Pereira the chance to create. It was a reaction that I wanted but that\\'s how we should have started.\"',\n",
       " 'https://www.channelnewsasia.com//sport/edwards-barbarians-shirt-worn-score-try-fetches-record-287k-3304306': 'A shirt worn by scrum-half Gareth Edwards when he scored a famous try for the Barbarians in a test match against New Zealand in 1973 was sold at auction for a world record of 240,000 pounds ($286,776.00) on Friday.\\n\\nThe price beats the previous record for a rugby jersey of 180,000 pounds paid in 2015 for a shirt worn by New Zealand captain Dave Gallaher in a test match against Wales in 1905.\\n\\nEdwards\\' shirt was from a memorable 23-11 Barbarians victory at Cardiff Arms Park 50 years ago, with the test organised as a part of an All Blacks North American and European tour.\\n\\nThe try Welshman Edwards scored in the test is regarded as one of the greatest ever and often referred to as \"that try\".\\n\\nThe shirt was sold at Rogers Jones Auctioneers in Llandough, Vale of Glamorgan as part of a collection from Edwards\\' career.\\n\\n\"It is the shirt off the back of the man consistently voted the greatest player of all time who scored the greatest try of all time in a game that many believe to be the best game of all time,\" auctioneer Ben Rogers Jones was quoted saying by the BBC.\\n\\nThe identity of the buyer of the shirt is not known.\\n\\nEdwards\\' number 9 shirt was kept in a box under a snooker table, having been given to his sons Owen and Rhys as a gift.\\n\\n($1 = 0.8369 pounds)',\n",
       " 'https://www.channelnewsasia.com//sport/mercedes-hit-hydraulics-problem-verstappen-impresses-3304176': 'MANAMA : An hydraulics problem brought an early end to the second day of Formula One testing for Mercedes on Friday while Red Bull\\'s double world champion Max Verstappen again looked the man to beat in Bahrain.\\n\\nVerstappen was not top of the timesheets but Alfa Romeo\\'s Zhou Guanyu, who led the second session with the fastest lap yet, was on the much softer C5 tyres compared to the Dutch driver\\'s C3s.\\n\\n\"Today we focused on the smaller details and took little steps,\" said Verstappen, who hands over to Mexican Sergio Perez for Saturday\\'s final day.\\n\\n\"Again, the car was responding well to everything we did... I’m very pleased with the testing period, every time I jumped in the car I felt comfortable and could push instantly.\\n\\n\"We’ll have to see how quick we will be next week but I’m feeling positive.\"\\n\\nGeorge Russell brought out red flags when he stopped on track, his Mercedes stuck in fourth gear, with some 90 minutes remaining.\\n\\nThe car was recovered and did not go back out.\\n\\nRussell had already told reporters that the team were struggling a little with the car\\'s balance and said it would be a bit of a stretch to expect Mercedes to be challenging for victory in next weekend\\'s opener.\\n\\nThe Briton ended the day 13th of 17 drivers on track with seven times world champion team mate Lewis Hamilton, who went out in the morning, 15th.\\n\\nMercedes boss Toto Wolff told Sky Sports television, however, that the former champions were \\'hiding\\' their true pace.\\n\\nVerstappen set his time of one minute 31.650 seconds in the afternoon, before Zhou went 0.040 quicker in cooler evening conditions.\\n\\nSpain\\'s double world champion Fernando Alonso was third fastest for Aston Martin, with that team looking seriously quick with a car designed under former Red Bull aerodynamics head Dan Fallows.\\n\\nAlonso did a hefty 130 laps, with race team mate Lance Stroll ruled out of the test after suffering a cycle injury while training in Spain.\\n\\nFerrari\\'s Carlos Sainz was fastest in the morning, before team mate Charles Leclerc took over in the afternoon.\\n\\n\"It’s been another positive day. Reliability was again very good and we\\'ve been able to explore all the set-ups we targeted to test,\" said the Spaniard.\\n\\n\"We keep exploring the limits of the car and finding potential areas where we can maximise performance. The main target is to keep up the good work tomorrow and get ready for next week.\"\\n\\nAmerican rookie Logan Sargeant was second fastest for Williams in the morning and perhaps more impressively did a mighty 154 laps over the day, more than anyone else.',\n",
       " 'https://www.channelnewsasia.com//sport/former-real-madrid-defender-marcelo-makes-fluminense-return-3304006': 'Brazilian defender Marcelo has signed a two-year contract with his former club Fluminense after leaving Greek champions Olympiakos Piraeus, the Brazilian Serie A side said on Friday.\\n\\nMarcelo signed a deal until December 2024 with an option to extend until the end of 2025, Fluminense said.\\n\\n\"Your home is and always will be Flumimense, @MarceloM12,\" the club wrote on Twitter alongside a video showcasing a cross-section of Marcelo\\'s career.\\n\\n\"It\\'s difficult to express what this moment means to me. I\\'ve been dreaming of returning to my origins for many years, to the team that trained me and taught me what I know about football\", Marcelo told the club website.\\n\\nThe 34-year-old started both his youth and professional career at Fluminense. He made a switch from the Brazilian side to Real Madrid back in 2007, and went on to make 546 appearances during 15 seasons for the Spanish champions.\\n\\nHe left Real Madrid in the close season as the most decorated player in the club\\'s 120-year history with 25 trophies - including five Champions League titles.\\n\\nOlympiakos announced Marcelo\\'s departure on Saturday, after the player terminated his contract five months after joining in September.'}"
      ]
     },
     "execution_count": 10,
     "metadata": {},
     "output_type": "execute_result"
    }
   ],
   "source": [
    "news_texts"
   ]
  },
  {
   "cell_type": "code",
   "execution_count": 13,
   "id": "db274a3b",
   "metadata": {},
   "outputs": [],
   "source": [
    "# write dictionary to text file\n",
    "import json\n",
    "  \n",
    "with open('cna_sports_articles.txt', 'w') as convert_file:\n",
    "     convert_file.write(json.dumps(news_texts))"
   ]
  },
  {
   "cell_type": "code",
   "execution_count": 12,
   "id": "3a7cdd51",
   "metadata": {},
   "outputs": [
    {
     "data": {
      "text/plain": [
       "20"
      ]
     },
     "execution_count": 12,
     "metadata": {},
     "output_type": "execute_result"
    }
   ],
   "source": [
    "len(news_texts)"
   ]
  }
 ],
 "metadata": {
  "kernelspec": {
   "display_name": "base",
   "language": "python",
   "name": "python3"
  },
  "language_info": {
   "codemirror_mode": {
    "name": "ipython",
    "version": 3
   },
   "file_extension": ".py",
   "mimetype": "text/x-python",
   "name": "python",
   "nbconvert_exporter": "python",
   "pygments_lexer": "ipython3",
   "version": "3.9.13"
  },
  "vscode": {
   "interpreter": {
    "hash": "f1743dd6e86e6d924867f0bc86ba4fb15235e1c840bf26466f93065a93459926"
   }
  }
 },
 "nbformat": 4,
 "nbformat_minor": 5
}
