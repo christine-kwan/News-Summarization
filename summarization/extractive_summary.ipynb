{
 "cells": [
  {
   "attachments": {},
   "cell_type": "markdown",
   "metadata": {},
   "source": [
    "### TextRank Extractive Summarization method"
   ]
  },
  {
   "cell_type": "code",
   "execution_count": 1,
   "metadata": {},
   "outputs": [],
   "source": [
    "import pandas as pd\n",
    "\n",
    "import nltk\n",
    "from nltk.tokenize import sent_tokenize, word_tokenize\n",
    "from nltk.corpus import stopwords\n",
    "from nltk.probability import FreqDist\n",
    "from nltk.stem import PorterStemmer\n",
    "from nltk.tokenize import word_tokenize, sent_tokenize\n",
    "from collections import defaultdict"
   ]
  },
  {
   "cell_type": "code",
   "execution_count": 8,
   "metadata": {},
   "outputs": [],
   "source": [
    "df = pd.read_csv(\"../cleaned_data/cna_cleaned_with_NER.csv\")\n",
    "content = df[[\"url\", \"cleaned_content\"]]"
   ]
  },
  {
   "cell_type": "code",
   "execution_count": 9,
   "metadata": {},
   "outputs": [],
   "source": [
    "from summarizer import summarize\n",
    "\n",
    "title = \"Sports\"\n",
    "\n",
    "url = []\n",
    "s = []\n",
    "\n",
    "for index, row in content.iterrows():\n",
    "    url.append(row[\"url\"])\n",
    "    summary = summarize(title, row['cleaned_content'])\n",
    "    s.append(summary)\n",
    "\n",
    "\n",
    "df = pd.DataFrame(list(zip(url, s)), columns =['url', 'summarised_content'])\n",
    "\n",
    "df.to_csv(\"cna_extractive_summary.csv\")"
   ]
  }
 ],
 "metadata": {
  "kernelspec": {
   "display_name": "base",
   "language": "python",
   "name": "python3"
  },
  "language_info": {
   "codemirror_mode": {
    "name": "ipython",
    "version": 3
   },
   "file_extension": ".py",
   "mimetype": "text/x-python",
   "name": "python",
   "nbconvert_exporter": "python",
   "pygments_lexer": "ipython3",
   "version": "3.9.13"
  },
  "orig_nbformat": 4
 },
 "nbformat": 4,
 "nbformat_minor": 2
}
