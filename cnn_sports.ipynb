{
 "cells": [
  {
   "cell_type": "code",
   "execution_count": 1,
   "id": "0446c7e7",
   "metadata": {},
   "outputs": [],
   "source": [
    "# !pip install beautifulsoup4\n",
    "# !pip install requests\n",
    "# !pip install newspaper3k"
   ]
  },
  {
   "cell_type": "code",
   "execution_count": 2,
   "id": "2160cdcc",
   "metadata": {},
   "outputs": [],
   "source": [
    "import requests\n",
    "from bs4 import BeautifulSoup"
   ]
  },
  {
   "cell_type": "code",
   "execution_count": 3,
   "id": "74c5dec0",
   "metadata": {},
   "outputs": [],
   "source": [
    "r1 = requests.get('https://edition.cnn.com/sport')\n",
    "coverpage = r1.content\n",
    "# coverpage"
   ]
  },
  {
   "cell_type": "code",
   "execution_count": 4,
   "id": "dab48799",
   "metadata": {
    "scrolled": true
   },
   "outputs": [],
   "source": [
    "soup1 = BeautifulSoup(coverpage, 'html.parser')"
   ]
  },
  {
   "cell_type": "code",
   "execution_count": 5,
   "id": "0da2aa47",
   "metadata": {},
   "outputs": [
    {
     "data": {
      "text/plain": [
       "319"
      ]
     },
     "execution_count": 5,
     "metadata": {},
     "output_type": "execute_result"
    }
   ],
   "source": [
    "# coverpage_news = soup1.find_all('div', class_='css-1l4spti')\n",
    "# coverpage_news.soup1.find_all('a')\n",
    "# coverpage_news.find_all('a')\n",
    "sports_news = soup1.find_all('a', href=True)\n",
    "# len(sports_news)\n",
    "len(sports_news)\n",
    "# sports_news"
   ]
  },
  {
   "cell_type": "code",
   "execution_count": 6,
   "id": "14d79b12",
   "metadata": {},
   "outputs": [
    {
     "data": {
      "text/plain": [
       "{'/2023/02/15/sport/kansas-city-chiefs-super-bowl-parade-spt-intl',\n",
       " '/2023/02/16/sport/lesley-paterson-all-quiet-on-the-western-front-film-triathlon-spt-intl',\n",
       " '/2023/02/20/sport/anderson-comas-gay-chicago-white-sox-spt-intl',\n",
       " '/2023/02/22/football/palestianian-national-soccer-team-world-cup-spt-intl',\n",
       " '/2023/02/23/sport/campbell-johnstone-all-blacks-rugby-spt-intl',\n",
       " '/2023/02/23/tennis/djokovic-us-tennis-participation-intl-spt',\n",
       " '/2023/02/24/sport/boxing-olympics-chaos-iba-usa-spt-intl',\n",
       " '/2023/02/25/tennis/barbora-krejcikova-iga-swiatek-dubai-tennis-championships-spt-intl',\n",
       " '/2023/02/25/tennis/jessica-pegula-doritos-tweet-spt-intl',\n",
       " '/2023/02/26/sport/byron-jones-nfl-injuries-spt-intl',\n",
       " '/2023/02/27/football/super-league-documentary-football-jeff-zimbalist-spt-intl',\n",
       " '/2023/02/27/golf/chris-kirk-alcoholism-depression-honda-classic-spt-intl',\n",
       " '/2023/02/27/sport/damian-lillard-71-points-record-nba-spt-intl',\n",
       " '/2023/02/27/tennis/novak-djokovic-steffi-graf-record-tennis-spt-intl',\n",
       " '/2023/02/28/football/fifa-best-awards-lionel-messi-alexia-putellas-spt-intl',\n",
       " '/2023/02/28/golf/the-masters-food-concessions-kit-spc-spt-intl',\n",
       " '/2023/03/01/football/damar-hamlin-brandon-beane-buffalo-bills-spt-intl',\n",
       " '/2023/03/01/football/just-fontaine-death-spt-intl',\n",
       " '/2023/03/01/sport/aaron-rodgers-decision-darkness-spt-intl',\n",
       " '/2023/03/01/sport/antonio-tiberi-cycling-cat-death-san-marino-spt-intl',\n",
       " '/2023/03/01/sport/baltimore-orioles-pittsburgh-pirates-umpires-spt-intl',\n",
       " '/2023/03/01/sport/vermont-basketball-transgender-athlete-spt-intl',\n",
       " '/2023/03/02/football/adriana-lima-fifa-moya-dodd-women-world-cup-intl-spt',\n",
       " '/2023/03/02/football/newcastle-united-saudi-arabia-pif-amnesty-spt-intl',\n",
       " '/2023/03/02/football/psg-nasser-al-khelaifi-investigation-spt-intl',\n",
       " '/2023/03/02/football/turkey-earthquake-soccer-fundraise-spt-intl',\n",
       " '/2023/03/02/golf/cameron-smith-open-celebrations-australian-pga-spt-spc-intl',\n",
       " '/2023/03/02/golf/pga-tour-designated-events-liv-golf-spt-intl',\n",
       " '/2023/03/02/motorsport/fernando-alonso-formula-one-aston-martin-spt-intl',\n",
       " '/2023/03/02/sport/brian-flores-judge-lawsuit-nfl-spt-intl',\n",
       " '/2023/03/02/sport/jerry-richardson-carolina-panthers-death-spt-intl',\n",
       " '/2023/03/02/sport/nfl-scouting-combine-2023-preview-spt-intl',\n",
       " '/2023/03/02/sport/shahida-raza-death-migrant-boat-shipwreck-spt-intl'}"
      ]
     },
     "execution_count": 6,
     "metadata": {},
     "output_type": "execute_result"
    }
   ],
   "source": [
    "links = []\n",
    "\n",
    "for i in range(len(sports_news)):\n",
    "    if \"/sport/\" and \"/2023/\" in sports_news[i]['href']:\n",
    "        if \"/videos/\" not in sports_news[i]['href']:\n",
    "            links.append(sports_news[i]['href'])\n",
    "\n",
    "links = set(links)\n",
    "links"
   ]
  },
  {
   "cell_type": "code",
   "execution_count": 7,
   "id": "7ee95e50",
   "metadata": {},
   "outputs": [
    {
     "data": {
      "text/plain": [
       "33"
      ]
     },
     "execution_count": 7,
     "metadata": {},
     "output_type": "execute_result"
    }
   ],
   "source": [
    "len(links)"
   ]
  },
  {
   "cell_type": "code",
   "execution_count": 8,
   "id": "d6ebaddb",
   "metadata": {},
   "outputs": [],
   "source": [
    "domain = 'https://edition.cnn.com/'\n",
    "url_list = []\n",
    "content_list = []\n",
    "my_text = {}\n",
    "bad_links = []"
   ]
  },
  {
   "cell_type": "code",
   "execution_count": 9,
   "id": "b1cfbc60",
   "metadata": {},
   "outputs": [],
   "source": [
    "from newspaper import Article\n",
    "\n",
    "for l in links:\n",
    "    try:\n",
    "        url = domain + l[1:]\n",
    "        article = Article(url)\n",
    "        article.download()\n",
    "        article.parse()\n",
    "        my_text[url] = article.text\n",
    "        url_list.append(url)\n",
    "        content_list.append(article.text)\n",
    "    except:\n",
    "        bad_links.append(url)\n"
   ]
  },
  {
   "cell_type": "code",
   "execution_count": 10,
   "id": "ab2946af",
   "metadata": {},
   "outputs": [
    {
     "data": {
      "text/plain": [
       "[]"
      ]
     },
     "execution_count": 10,
     "metadata": {},
     "output_type": "execute_result"
    }
   ],
   "source": [
    "bad_links"
   ]
  },
  {
   "cell_type": "code",
   "execution_count": 11,
   "id": "86020228",
   "metadata": {},
   "outputs": [],
   "source": [
    "# my_text"
   ]
  },
  {
   "cell_type": "code",
   "execution_count": 12,
   "id": "86724612",
   "metadata": {},
   "outputs": [],
   "source": [
    "import pandas as pd\n",
    "df = pd.DataFrame(zip(url_list, content_list), columns=['url', 'content'])\n",
    "df.to_csv('cnn_3mar.csv')"
   ]
  }
 ],
 "metadata": {
  "kernelspec": {
   "display_name": "base",
   "language": "python",
   "name": "python3"
  },
  "language_info": {
   "codemirror_mode": {
    "name": "ipython",
    "version": 3
   },
   "file_extension": ".py",
   "mimetype": "text/x-python",
   "name": "python",
   "nbconvert_exporter": "python",
   "pygments_lexer": "ipython3",
   "version": "3.9.13"
  },
  "vscode": {
   "interpreter": {
    "hash": "f1743dd6e86e6d924867f0bc86ba4fb15235e1c840bf26466f93065a93459926"
   }
  }
 },
 "nbformat": 4,
 "nbformat_minor": 5
}
